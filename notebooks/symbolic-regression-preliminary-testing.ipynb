{
 "cells": [
  {
   "cell_type": "code",
   "execution_count": 1,
   "id": "05cfd7c1",
   "metadata": {},
   "outputs": [],
   "source": [
    "import xarray as xr\n",
    "import numpy as np\n",
    "import matplotlib.pyplot as plt\n",
    "%matplotlib inline\n",
    "\n",
    "from gplearn.genetic import SymbolicRegressor\n",
    "from sklearn.linear_model import Lasso\n",
    "from sklearn.linear_model import LinearRegression\n",
    "from sklearn.preprocessing import StandardScaler"
   ]
  },
  {
   "cell_type": "code",
   "execution_count": 2,
   "id": "2acc8eda",
   "metadata": {},
   "outputs": [],
   "source": [
    "plt.rcParams.update({'font.size': 16})"
   ]
  },
  {
   "cell_type": "code",
   "execution_count": 3,
   "id": "c162c7d8",
   "metadata": {},
   "outputs": [],
   "source": [
    "trn = xr.open_dataset('../foo/lores.nc')\n",
    "tst = xr.open_dataset('../bar/lores.nc')\n",
    "xfer = xr.open_dataset('../baz/lores.nc')"
   ]
  },
  {
   "cell_type": "markdown",
   "id": "d9aa9b14",
   "metadata": {},
   "source": [
    "# Create a library of basis functions which are derivatives of various quantites"
   ]
  },
  {
   "cell_type": "code",
   "execution_count": 4,
   "id": "916bac94",
   "metadata": {},
   "outputs": [],
   "source": [
    "for ds in [trn, tst, xfer]:\n",
    "    ds['u_x'] = ds.u.differentiate('x')\n",
    "    ds['u_y'] = ds.u.differentiate('y')\n",
    "    ds['v_x'] = ds.v.differentiate('x')\n",
    "    ds['v_y'] = ds.v.differentiate('y')\n",
    "    \n",
    "    ds['u_xx'] = ds.u_x.differentiate('x')\n",
    "    ds['u_xy'] = ds.u_x.differentiate('y')\n",
    "    ds['u_yy'] = ds.u_y.differentiate('y')\n",
    "    ds['v_xx'] = ds.v_x.differentiate('x')\n",
    "    ds['v_xy'] = ds.v_x.differentiate('y')\n",
    "    ds['v_yy'] = ds.v_y.differentiate('y')\n",
    "    \n",
    "    ds['q_x'] = ds.q.differentiate('x')\n",
    "    ds['q_y'] = ds.q.differentiate('y')\n",
    "\n",
    "    ds['q_xx'] = ds.q_x.differentiate('x')\n",
    "    ds['q_yy'] = ds.q_y.differentiate('y')\n",
    "    ds['q_xy'] = ds.q_x.differentiate('y')\n",
    "\n",
    "    ds['dqdt_x'] = ds.dqdt.differentiate('x')\n",
    "    ds['dqdt_y'] = ds.dqdt.differentiate('y')"
   ]
  },
  {
   "cell_type": "markdown",
   "id": "63bc0e1e",
   "metadata": {},
   "source": [
    "# Goal will be to predict our two versions of subgrid forcing in the upper layer based on our features in both layers"
   ]
  },
  {
   "cell_type": "code",
   "execution_count": 5,
   "id": "d328f10b",
   "metadata": {},
   "outputs": [],
   "source": [
    "Y1 = trn.isel(lev=0).q_forcing_advection.data.ravel()\n",
    "Y1_sd = np.std(Y1)\n",
    "Y1 = Y1 / Y1_sd\n",
    "\n",
    "Y2 = trn.isel(lev=0).q_forcing_model.data.ravel()\n",
    "Y2_sd = np.std(Y2)\n",
    "Y2 = Y2 / Y2_sd"
   ]
  },
  {
   "cell_type": "code",
   "execution_count": 6,
   "id": "dcd6ffe9",
   "metadata": {},
   "outputs": [
    {
     "data": {
      "text/plain": [
       "(356352, 42)"
      ]
     },
     "execution_count": 6,
     "metadata": {},
     "output_type": "execute_result"
    }
   ],
   "source": [
    "feats = ['q','q_x','q_y','q_xx','q_xy','q_yy','dqdt','dqdt_x','dqdt_y','u','v','u_x','u_y','v_x','v_y',\n",
    "        'u_xx','u_xy','u_yy','v_xx','v_xy','v_yy']\n",
    "feature_names = [f+'1'for f in feats]+[f+'2'for f in feats]\n",
    "\n",
    "X = np.array([\n",
    "    trn.isel(lev=0)[feat].data.ravel()\n",
    "    for feat in feats\n",
    "] + [\n",
    "    trn.isel(lev=1)[feat].data.ravel()\n",
    "    for feat in feats\n",
    "]).T\n",
    "\n",
    "X_scale = StandardScaler()\n",
    "X = X_scale.fit_transform(X)\n",
    "\n",
    "X.shape"
   ]
  },
  {
   "cell_type": "code",
   "execution_count": 7,
   "id": "43f294a9",
   "metadata": {},
   "outputs": [
    {
     "data": {
      "text/plain": [
       "(356352, 42)"
      ]
     },
     "execution_count": 7,
     "metadata": {},
     "output_type": "execute_result"
    }
   ],
   "source": [
    "Y1_test = tst.isel(lev=0).q_forcing_advection.data.ravel()\n",
    "Y1_test = Y1_test / Y1_sd\n",
    "\n",
    "Y2_test = tst.isel(lev=0).q_forcing_model.data.ravel()\n",
    "Y2_test = Y2 / Y2_sd\n",
    "\n",
    "X_test = np.array([\n",
    "    tst.isel(lev=0)[feat].data.ravel()\n",
    "    for feat in feats\n",
    "] + [\n",
    "    tst.isel(lev=1)[feat].data.ravel()\n",
    "    for feat in feats\n",
    "]).T\n",
    "\n",
    "X_test = X_scale.fit_transform(X_test)\n",
    "\n",
    "X_test.shape"
   ]
  },
  {
   "cell_type": "code",
   "execution_count": 8,
   "id": "5a6c9304",
   "metadata": {},
   "outputs": [
    {
     "data": {
      "text/plain": [
       "(356352, 42)"
      ]
     },
     "execution_count": 8,
     "metadata": {},
     "output_type": "execute_result"
    }
   ],
   "source": [
    "Y1_xfer = xfer.isel(lev=0).q_forcing_advection.data.ravel()\n",
    "Y1_xfer = Y1_xfer / Y1_sd\n",
    "\n",
    "Y2_xfer = xfer.isel(lev=0).q_forcing_model.data.ravel()\n",
    "Y2_xfer = Y2 / Y2_sd\n",
    "\n",
    "X_xfer = np.array([\n",
    "    xfer.isel(lev=0)[feat].data.ravel()\n",
    "    for feat in feats\n",
    "] + [\n",
    "    xfer.isel(lev=1)[feat].data.ravel()\n",
    "    for feat in feats\n",
    "]).T\n",
    "\n",
    "X_xfer = X_scale.fit_transform(X_xfer)\n",
    "\n",
    "X_xfer.shape"
   ]
  },
  {
   "cell_type": "markdown",
   "id": "66477e1e",
   "metadata": {},
   "source": [
    "# Run linear regression and Lasso baselines (not combining any symbols)"
   ]
  },
  {
   "cell_type": "code",
   "execution_count": 9,
   "id": "b3bbcd25",
   "metadata": {},
   "outputs": [
    {
     "data": {
      "text/plain": [
       "(0.6177161595976289, 0.6223287274649336, -0.48675613547410657)"
      ]
     },
     "execution_count": 9,
     "metadata": {},
     "output_type": "execute_result"
    }
   ],
   "source": [
    "lr1 = LinearRegression()\n",
    "lr1.fit(X, Y1)\n",
    "lr1.score(X, Y1), lr1.score(X_test, Y1_test), lr1.score(X_xfer, Y1_xfer)"
   ]
  },
  {
   "cell_type": "code",
   "execution_count": 10,
   "id": "0da99785",
   "metadata": {},
   "outputs": [
    {
     "data": {
      "image/png": "[encoded data removed]",
      "text/plain": [
       "<Figure size 1152x216 with 1 Axes>"
      ]
     },
     "metadata": {
      "needs_background": "light"
     },
     "output_type": "display_data"
    }
   ],
   "source": [
    "plt.figure(figsize=(16,3))\n",
    "plt.bar(np.arange(X.shape[1]), lr1.coef_)\n",
    "plt.xticks(np.arange(X.shape[1]), feature_names, rotation=90)\n",
    "plt.grid()\n",
    "plt.title(\"Linear regression coefs for $S_{q_1,adv}$\")\n",
    "plt.show()"
   ]
  },
  {
   "cell_type": "code",
   "execution_count": 11,
   "id": "c44c7777",
   "metadata": {},
   "outputs": [
    {
     "data": {
      "text/plain": [
       "(0.040615742338866445, -4.440892098500626e-16, -4.440892098500626e-16)"
      ]
     },
     "execution_count": 11,
     "metadata": {},
     "output_type": "execute_result"
    }
   ],
   "source": [
    "lr2 = LinearRegression()\n",
    "lr2.fit(X, Y2)\n",
    "lr2.score(X, Y2), lr2.score(X_test, Y2_test), lr2.score(X_xfer, Y2_xfer)"
   ]
  },
  {
   "cell_type": "code",
   "execution_count": 12,
   "id": "32eeba08",
   "metadata": {},
   "outputs": [
    {
     "data": {
      "image/png": "[encoded data removed]",
      "text/plain": [
       "<Figure size 1152x216 with 1 Axes>"
      ]
     },
     "metadata": {
      "needs_background": "light"
     },
     "output_type": "display_data"
    }
   ],
   "source": [
    "plt.figure(figsize=(16,3))\n",
    "plt.bar(np.arange(X.shape[1]), lr2.coef_)\n",
    "plt.xticks(np.arange(X.shape[1]), feature_names, rotation=90)\n",
    "plt.grid()\n",
    "plt.title(\"Linear regression coefs for $S_{q_1,model}$\")\n",
    "plt.show()"
   ]
  },
  {
   "cell_type": "code",
   "execution_count": 13,
   "id": "90fda2ec",
   "metadata": {},
   "outputs": [
    {
     "data": {
      "text/plain": [
       "(0.5963998889802196, 0.5989884160658678, -0.1666504516968299)"
      ]
     },
     "execution_count": 13,
     "metadata": {},
     "output_type": "execute_result"
    }
   ],
   "source": [
    "ted1 = Lasso(alpha=0.05)\n",
    "ted1.fit(X, Y1)\n",
    "ted1.score(X, Y1), ted1.score(X_test, Y1_test), ted1.score(X_xfer, Y1_xfer)"
   ]
  },
  {
   "cell_type": "code",
   "execution_count": 14,
   "id": "acd6c991",
   "metadata": {},
   "outputs": [
    {
     "data": {
      "image/png": "[encoded data removed]",
      "text/plain": [
       "<Figure size 1152x216 with 1 Axes>"
      ]
     },
     "metadata": {
      "needs_background": "light"
     },
     "output_type": "display_data"
    }
   ],
   "source": [
    "plt.figure(figsize=(16,3))\n",
    "plt.bar(np.arange(X.shape[1]), ted1.coef_)\n",
    "plt.xticks(np.arange(X.shape[1]), feature_names, rotation=90)\n",
    "plt.grid()\n",
    "plt.title(\"Lasso($\\\\alpha=0.05$) coefs for $S_{q_1,adv}$\")\n",
    "plt.show()"
   ]
  },
  {
   "cell_type": "code",
   "execution_count": 15,
   "id": "72f5b522",
   "metadata": {},
   "outputs": [
    {
     "data": {
      "text/plain": [
       "(0.027675917656226123, -4.440892098500626e-16, -4.440892098500626e-16)"
      ]
     },
     "execution_count": 15,
     "metadata": {},
     "output_type": "execute_result"
    }
   ],
   "source": [
    "ted2 = Lasso(alpha=0.05)\n",
    "ted2.fit(X, Y2)\n",
    "ted2.score(X, Y2), ted2.score(X_test, Y2_test), ted2.score(X_xfer, Y2_xfer)"
   ]
  },
  {
   "cell_type": "code",
   "execution_count": 16,
   "id": "36136045",
   "metadata": {},
   "outputs": [
    {
     "data": {
      "image/png": "[encoded data removed]",
      "text/plain": [
       "<Figure size 1152x216 with 1 Axes>"
      ]
     },
     "metadata": {
      "needs_background": "light"
     },
     "output_type": "display_data"
    }
   ],
   "source": [
    "plt.figure(figsize=(16,3))\n",
    "plt.bar(np.arange(X.shape[1]), ted2.coef_)\n",
    "plt.xticks(np.arange(X.shape[1]), feature_names, rotation=90)\n",
    "plt.grid()\n",
    "plt.title(\"Lasso($\\\\alpha=0.05$) coefs for $S_{q_1,model}$\")\n",
    "plt.show()"
   ]
  },
  {
   "cell_type": "markdown",
   "id": "18ae87de",
   "metadata": {},
   "source": [
    "# Run neural network baseline (= as well as we can expect symbolic regression to do from the same inputs)"
   ]
  },
  {
   "cell_type": "code",
   "execution_count": 18,
   "id": "4612799e",
   "metadata": {
    "scrolled": true
   },
   "outputs": [
    {
     "name": "stdout",
     "output_type": "stream",
     "text": [
      "Loss after Epoch 1: 0.31087163071905466\n",
      "Loss after Epoch 2: 0.26244421336122775\n",
      "Loss after Epoch 3: 0.2535793908333791\n",
      "Loss after Epoch 4: 0.24683337852334733\n",
      "Loss after Epoch 5: 0.2407939412374178\n",
      "Loss after Epoch 6: 0.23514131090373613\n",
      "Loss after Epoch 7: 0.23017823209935243\n",
      "Loss after Epoch 8: 0.22566592443035915\n",
      "Loss after Epoch 9: 0.2223994737857653\n",
      "Loss after Epoch 10: 0.21798746042949116\n",
      "Loss after Epoch 11: 0.20014635350316998\n",
      "Loss after Epoch 12: 0.19733388288663808\n",
      "Loss after Epoch 13: 0.1962135299042017\n",
      "Loss after Epoch 14: 0.19528814167755754\n",
      "Loss after Epoch 15: 0.19474912539054906\n",
      "Loss after Epoch 16: 0.1922463408738894\n",
      "Loss after Epoch 17: 0.19199629783317254\n",
      "Loss after Epoch 18: 0.1916673442110655\n",
      "Loss after Epoch 19: 0.19164642296603013\n",
      "Loss after Epoch 20: 0.19163223776977037\n"
     ]
    }
   ],
   "source": [
    "import torch\n",
    "import torch.nn as nn\n",
    "import torch.nn.functional as F\n",
    "import sys\n",
    "sys.path.append('..')\n",
    "from models import train\n",
    "\n",
    "class Net(nn.Module):\n",
    "    def __init__(self):\n",
    "        super().__init__()\n",
    "        self.fc1 = nn.Linear(X.shape[1], 100)\n",
    "        self.gelu = nn.GELU()\n",
    "        self.fc2 = nn.Linear(100, 1)\n",
    "        \n",
    "    def forward(self, x):\n",
    "        x = self.fc1(x)\n",
    "        x = self.gelu(x)\n",
    "        x = self.fc2(x)\n",
    "        return x\n",
    "    \n",
    "net = Net()\n",
    "train(net,X,Y1.reshape(-1,1),num_epochs=20)"
   ]
  },
  {
   "cell_type": "code",
   "execution_count": 19,
   "id": "351e6b1c",
   "metadata": {},
   "outputs": [],
   "source": [
    "from sklearn.metrics import r2_score"
   ]
  },
  {
   "cell_type": "code",
   "execution_count": 20,
   "id": "cebee0f0",
   "metadata": {},
   "outputs": [
    {
     "data": {
      "text/plain": [
       "(0.808411465524566, 0.79214376627657, -0.8807619324351927)"
      ]
     },
     "execution_count": 20,
     "metadata": {},
     "output_type": "execute_result"
    }
   ],
   "source": [
    "Y1_pred = net(torch.as_tensor(X)).detach().numpy()\n",
    "Y1_pred_test = net(torch.as_tensor(X_test)).detach().numpy()\n",
    "Y1_pred_xfer = net(torch.as_tensor(X_xfer)).detach().numpy()\n",
    "r2_score(Y1,Y1_pred), r2_score(Y1_test,Y1_pred_test), r2_score(Y1_xfer,Y1_pred_xfer)"
   ]
  },
  {
   "cell_type": "markdown",
   "id": "c06d5071",
   "metadata": {},
   "source": [
    "Unsurprisingly, the NN does much better than linear regression at predicting the advection version of subgrid forcing. However, it fails to transfer to the jet configuration. Still, let's investigate what it learned."
   ]
  },
  {
   "cell_type": "code",
   "execution_count": 21,
   "id": "59051400",
   "metadata": {},
   "outputs": [],
   "source": [
    "import torch.autograd as autograd\n",
    "\n",
    "X_grad = torch.as_tensor(X).requires_grad_()\n",
    "Y_grad = net(X_grad)\n",
    "dy_dx = autograd.grad(Y_grad.sum(), X_grad)[0].detach().numpy()"
   ]
  },
  {
   "cell_type": "code",
   "execution_count": 22,
   "id": "8c2071cf",
   "metadata": {},
   "outputs": [
    {
     "data": {
      "image/png": "[encoded data removed]",
      "text/plain": [
       "<Figure size 1152x216 with 1 Axes>"
      ]
     },
     "metadata": {
      "needs_background": "light"
     },
     "output_type": "display_data"
    }
   ],
   "source": [
    "plt.figure(figsize=(16,3))\n",
    "plt.bar(np.arange(X.shape[1]), dy_dx.mean(axis=0), yerr=dy_dx.std(axis=0))\n",
    "plt.xticks(np.arange(X.shape[1]), feature_names, rotation=90)\n",
    "plt.grid()\n",
    "plt.title(\"NN effective coefs for $S_{q_1,adv}$\")\n",
    "plt.ylabel(\"Gradient value\")\n",
    "plt.show()"
   ]
  },
  {
   "cell_type": "code",
   "execution_count": 23,
   "id": "e63b95aa",
   "metadata": {},
   "outputs": [
    {
     "data": {
      "image/png": "[encoded data removed]",
      "text/plain": [
       "<Figure size 1440x216 with 1 Axes>"
      ]
     },
     "metadata": {
      "needs_background": "light"
     },
     "output_type": "display_data"
    }
   ],
   "source": [
    "order = np.arange(len(dy_dx))\n",
    "np.random.shuffle(order)\n",
    "plt.figure(figsize=(20,3))\n",
    "plt.violinplot(dy_dx[order[:10000]])\n",
    "plt.grid()\n",
    "plt.xticks(np.arange(X.shape[1])+1, feature_names, rotation=90)\n",
    "plt.title(\"NN effective coefs for $S_{q_1,adv}$\")\n",
    "plt.ylabel(\"Gradient value\")\n",
    "plt.show()"
   ]
  },
  {
   "cell_type": "code",
   "execution_count": 24,
   "id": "f9462ef7",
   "metadata": {},
   "outputs": [
    {
     "name": "stdout",
     "output_type": "stream",
     "text": [
      "Important features:\n",
      "['q1', 'q_x1', 'q_y1', 'dqdt1', 'u1', 'v1', 'q2', 'q_x2', 'q_y2', 'dqdt2']\n"
     ]
    }
   ],
   "source": [
    "important_feats = np.argwhere(np.abs(dy_dx).mean(axis=0) > 0.15)[:,0]\n",
    "print(\"Important features:\")\n",
    "print([feature_names[i] for i in important_feats])"
   ]
  },
  {
   "cell_type": "markdown",
   "id": "53bea5af",
   "metadata": {},
   "source": [
    "For predicting this version of the upper layer's subgrid forcing, it looks like the relevant features are the potential vorticity plus its spatial and time derivatives at both layers, as well as the velocity in the upper layer. It might make sense to initialize symbolic regression with those terms.\n",
    "\n",
    "But how should symbolic regression combine these terms? Let's investigate with a quick second-order test:"
   ]
  },
  {
   "cell_type": "code",
   "execution_count": 25,
   "id": "cae2f062",
   "metadata": {},
   "outputs": [],
   "source": [
    "baseline = Y1_pred\n",
    "\n",
    "dx = 0.01\n",
    "\n",
    "perturbed_fs = {}\n",
    "\n",
    "for f in important_feats:\n",
    "    df = np.zeros_like(X)\n",
    "    df[:,f] = dx\n",
    "    perturbed_fs[f] = (baseline - net(torch.as_tensor(X + df)).detach().numpy())"
   ]
  },
  {
   "cell_type": "code",
   "execution_count": 26,
   "id": "03e8c915",
   "metadata": {},
   "outputs": [],
   "source": [
    "doubly_perturbed_fs = {}\n",
    "\n",
    "for f1 in important_feats:\n",
    "    for f2 in important_feats:\n",
    "        df12 = np.zeros_like(X)\n",
    "        df12[:,f1] += dx\n",
    "        df12[:,f2] += dx\n",
    "        doubly_perturbed_fs[(f1,f2)] = (baseline - net(torch.as_tensor(X + df12)).detach().numpy())"
   ]
  },
  {
   "cell_type": "code",
   "execution_count": 27,
   "id": "e55a694d",
   "metadata": {},
   "outputs": [],
   "source": [
    "second_diffs = np.array([[\n",
    "    np.abs(doubly_perturbed_fs[(i,j)] - perturbed_fs[i] - perturbed_fs[j]).mean()\n",
    "    for i in important_feats] for j in important_feats\n",
    "])"
   ]
  },
  {
   "cell_type": "code",
   "execution_count": 28,
   "id": "9d60345a",
   "metadata": {},
   "outputs": [
    {
     "data": {
      "image/png": "[encoded data removed]",
      "text/plain": [
       "<Figure size 432x288 with 2 Axes>"
      ]
     },
     "metadata": {
      "needs_background": "light"
     },
     "output_type": "display_data"
    }
   ],
   "source": [
    "plt.title(\"Est. NN interaction strength\\n(dev. from linearity)\")\n",
    "plt.imshow(second_diffs)\n",
    "plt.yticks(range(len(important_feats)), [feature_names[i] for i in important_feats])\n",
    "plt.xticks(range(len(important_feats)), [feature_names[i] for i in important_feats], rotation=90)\n",
    "plt.colorbar()\n",
    "plt.show()"
   ]
  },
  {
   "cell_type": "markdown",
   "id": "db377247",
   "metadata": {},
   "source": [
    "A very rudimentary analysis of how the neural network is combining these terms suggests interactions between x/y-velocity and the x/y derivatives of $q$, as well as between the x/y-derivative of $q_1$ and the alternate y/x-derivatives of $q_2$.\n",
    "\n",
    "Ok, now let's try to predict our alternate version of subgrid forcing."
   ]
  },
  {
   "cell_type": "code",
   "execution_count": 29,
   "id": "56211c6b",
   "metadata": {},
   "outputs": [
    {
     "name": "stdout",
     "output_type": "stream",
     "text": [
      "Loss after Epoch 1: 0.9407327057012281\n",
      "Loss after Epoch 2: 0.9078173711574797\n",
      "Loss after Epoch 3: 0.9000915426429061\n",
      "Loss after Epoch 4: 0.8968450929166685\n",
      "Loss after Epoch 5: 0.8916542869350262\n",
      "Loss after Epoch 6: 0.8865845369993998\n",
      "Loss after Epoch 7: 0.881465219287737\n",
      "Loss after Epoch 8: 0.8765185578490725\n",
      "Loss after Epoch 9: 0.8737165448684031\n",
      "Loss after Epoch 10: 0.8695703498194872\n",
      "Loss after Epoch 11: 0.8508625495750671\n",
      "Loss after Epoch 12: 0.846686690906598\n",
      "Loss after Epoch 13: 0.8448416392436657\n",
      "Loss after Epoch 14: 0.843312965882621\n",
      "Loss after Epoch 15: 0.842171658858143\n",
      "Loss after Epoch 16: 0.8389897281839245\n",
      "Loss after Epoch 17: 0.8385623724831418\n",
      "Loss after Epoch 18: 0.8381233691055884\n",
      "Loss after Epoch 19: 0.8380910053383559\n",
      "Loss after Epoch 20: 0.8380693036623984\n"
     ]
    }
   ],
   "source": [
    "net2 = Net()\n",
    "train(net2,X,Y2.reshape(-1,1),num_epochs=20)"
   ]
  },
  {
   "cell_type": "code",
   "execution_count": 30,
   "id": "80f78b20",
   "metadata": {},
   "outputs": [
    {
     "name": "stdout",
     "output_type": "stream",
     "text": [
      "Train, Test, Transfer\n",
      "0.16198552379918574 -4.440892098500626e-16 -4.440892098500626e-16\n"
     ]
    }
   ],
   "source": [
    "Y2_pred = net2(torch.as_tensor(X)).detach().numpy()\n",
    "Y2_pred_test = net2(torch.as_tensor(X_test)).detach().numpy()\n",
    "Y2_pred_xfer = net2(torch.as_tensor(X_xfer)).detach().numpy()\n",
    "print(\"Train, Test, Transfer\")\n",
    "print(r2_score(Y2,Y2_pred), r2_score(Y2_test,Y2_pred_test), r2_score(Y2_xfer,Y2_pred_xfer))"
   ]
  },
  {
   "cell_type": "markdown",
   "id": "66b90d36",
   "metadata": {},
   "source": [
    "Interestingly, it looks like we can't really predict our alternate version of subgrid forcing using this method -- performance seems ok on the training set, but it even fails on the test set, indicating overfitting / memorization (perhaps due to an inherent lack of predictiveness in the features)."
   ]
  },
  {
   "cell_type": "markdown",
   "id": "b859e53c",
   "metadata": {},
   "source": [
    "# Try nearest neighbors (for Joan)"
   ]
  },
  {
   "cell_type": "code",
   "execution_count": 91,
   "id": "e31db48b",
   "metadata": {},
   "outputs": [
    {
     "data": {
      "text/plain": [
       "1.0"
      ]
     },
     "execution_count": 91,
     "metadata": {},
     "output_type": "execute_result"
    }
   ],
   "source": [
    "from sklearn.neighbors import KNeighborsRegressor\n",
    "\n",
    "knn1 = KNeighborsRegressor(n_neighbors=1)\n",
    "\n",
    "order = np.arange(len(X))\n",
    "np.random.shuffle(order)\n",
    "knn1.fit(X[order[:50000]],Y1[order[:50000]])\n",
    "knn1.score(X[order[:50000]],Y1[order[:50000]])"
   ]
  },
  {
   "cell_type": "code",
   "execution_count": 92,
   "id": "b5c747f8",
   "metadata": {},
   "outputs": [
    {
     "data": {
      "text/plain": [
       "0.08768421474522015"
      ]
     },
     "execution_count": 92,
     "metadata": {},
     "output_type": "execute_result"
    }
   ],
   "source": [
    "knn1.score(X_test[order[:50000]],Y1_test[order[:50000]])"
   ]
  },
  {
   "cell_type": "code",
   "execution_count": 94,
   "id": "7e29f37b",
   "metadata": {},
   "outputs": [
    {
     "data": {
      "text/plain": [
       "1.0"
      ]
     },
     "execution_count": 94,
     "metadata": {},
     "output_type": "execute_result"
    }
   ],
   "source": [
    "knn2 = KNeighborsRegressor(n_neighbors=1)\n",
    "knn2.fit(X[order[:50000]],Y2[order[:50000]])\n",
    "knn2.score(X[order[:50000]],Y2[order[:50000]])"
   ]
  },
  {
   "cell_type": "code",
   "execution_count": 95,
   "id": "5d4bdc26",
   "metadata": {},
   "outputs": [
    {
     "data": {
      "text/plain": [
       "-9.724253445586584e-06"
      ]
     },
     "execution_count": 95,
     "metadata": {},
     "output_type": "execute_result"
    }
   ],
   "source": [
    "knn2.score(X_test[order[:50000]],Y2_test[order[:50000]])"
   ]
  },
  {
   "cell_type": "markdown",
   "id": "5ae0115f",
   "metadata": {},
   "source": [
    "Nearest neighbors does not work well on the test set :("
   ]
  },
  {
   "cell_type": "markdown",
   "id": "67638154",
   "metadata": {},
   "source": [
    "# Try symbolic regression with genetic programming to combine terms"
   ]
  },
  {
   "cell_type": "code",
   "execution_count": 101,
   "id": "03ec6576",
   "metadata": {},
   "outputs": [
    {
     "name": "stdout",
     "output_type": "stream",
     "text": [
      "    |   Population Average    |             Best Individual              |\n",
      "---- ------------------------- ------------------------------------------ ----------\n",
      " Gen   Length          Fitness   Length          Fitness      OOB Fitness  Time Left\n"
     ]
    },
    {
     "name": "stderr",
     "output_type": "stream",
     "text": [
      "/opt/miniconda3/lib/python3.9/site-packages/gplearn/functions.py:127: RuntimeWarning: overflow encountered in true_divide\n",
      "  return np.where(np.abs(x2) > 0.001, np.divide(x1, x2), 1.)\n"
     ]
    },
    {
     "name": "stdout",
     "output_type": "stream",
     "text": [
      "   0    25.75           384222        3         0.590163         0.591998     20.44m\n",
      "   1     3.42          869.455        3         0.372905         0.374827     13.44m\n",
      "   2     3.19          4.10542        3          0.37274         0.376306     13.02m\n",
      "   3     1.61          2.04752        3         0.372386         0.379495     11.59m\n",
      "   4     2.43          2.00931        3         0.371995         0.383019     12.39m\n",
      "   5     3.26          4.38418        3         0.372069         0.382352     12.76m\n",
      "   6     3.18          1.59018        3         0.372006         0.382913     11.91m\n",
      "   7     3.25          212.964        3         0.371991         0.383047     11.00m\n",
      "   8     3.23          3.72685        3          0.37214         0.381715     10.08m\n",
      "   9     3.23          3.34588        3         0.371786         0.384895      9.21m\n",
      "  10     3.19          2.89646        3         0.372002         0.382952      8.32m\n",
      "  11     3.23          39.6525        3         0.372099         0.382076      7.41m\n",
      "  12     3.19           0.9182        3         0.372085         0.382202      6.49m\n",
      "  13     3.22          4.83421        3         0.372054         0.382485      5.55m\n",
      "  14     3.17          1.70897        3         0.372054         0.382482      4.61m\n",
      "  15     3.16         0.957204        3         0.372052         0.382502      3.71m\n",
      "  16     3.21          56.7457        3         0.372087         0.382187      2.79m\n",
      "  17     3.24          1.80161        3          0.37212         0.381893      1.85m\n",
      "  18     3.19          2.87255        3         0.372141         0.381701     55.86s\n",
      "  19     3.17          3.77046        3         0.372087         0.382188      0.00s\n"
     ]
    },
    {
     "data": {
      "text/plain": [
       "SymbolicRegressor(feature_names=['q1', 'q_x1', 'q_y1', 'q_xx1', 'q_xy1',\n",
       "                                 'q_yy1', 'dqdt1', 'dqdt_x1', 'dqdt_y1', 'u1',\n",
       "                                 'v1', 'u_x1', 'u_y1', 'v_x1', 'v_y1', 'u_xx1',\n",
       "                                 'u_xy1', 'u_yy1', 'v_xx1', 'v_xy1', 'v_yy1',\n",
       "                                 'q2', 'q_x2', 'q_y2', 'q_xx2', 'q_xy2',\n",
       "                                 'q_yy2', 'dqdt2', 'dqdt_x2', 'dqdt_y2', ...],\n",
       "                  max_samples=0.9, p_crossover=0.7, p_hoist_mutation=0.05,\n",
       "                  p_point_mutation=0.1, p_subtree_mutation=0.1,\n",
       "                  parsimony_coefficient=0.01, population_size=5000,\n",
       "                  random_state=0, stopping_criteria=0.01, verbose=1)"
      ]
     },
     "execution_count": 101,
     "metadata": {},
     "output_type": "execute_result"
    }
   ],
   "source": [
    "reg = SymbolicRegressor(feature_names=feature_names,\n",
    "                        population_size=5000,\n",
    "                        generations=20, stopping_criteria=0.01,\n",
    "                        p_crossover=0.7, p_subtree_mutation=0.1,\n",
    "                        p_hoist_mutation=0.05, p_point_mutation=0.1,\n",
    "                        max_samples=0.9, verbose=1,\n",
    "                        parsimony_coefficient=0.01, random_state=0)\n",
    "reg.fit(X,Y1)"
   ]
  },
  {
   "cell_type": "code",
   "execution_count": 102,
   "id": "476f7045",
   "metadata": {},
   "outputs": [
    {
     "name": "stdout",
     "output_type": "stream",
     "text": [
      "mul(0.798, dqdt1)\n"
     ]
    }
   ],
   "source": [
    "print(reg._program)"
   ]
  },
  {
   "cell_type": "code",
   "execution_count": 116,
   "id": "4db75302",
   "metadata": {},
   "outputs": [
    {
     "data": {
      "text/plain": [
       "(0.32639415104597413, 0.30907511022094303)"
      ]
     },
     "execution_count": 116,
     "metadata": {},
     "output_type": "execute_result"
    }
   ],
   "source": [
    "Y_gp = reg.predict(X)\n",
    "Y_gp2 = reg.predict(X_test)\n",
    "r2_score(Y_gp,Y1), r2_score(Y_gp2, Y1_test)"
   ]
  }
 ],
 "metadata": {
  "kernelspec": {
   "display_name": "Python 3 (ipykernel)",
   "language": "python",
   "name": "python3"
  },
  "language_info": {
   "codemirror_mode": {
    "name": "ipython",
    "version": 3
   },
   "file_extension": ".py",
   "mimetype": "text/x-python",
   "name": "python",
   "nbconvert_exporter": "python",
   "pygments_lexer": "ipython3",
   "version": "3.9.5"
  }
 },
 "nbformat": 4,
 "nbformat_minor": 5
}
