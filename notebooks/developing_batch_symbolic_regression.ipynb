{
 "cells": [
  {
   "cell_type": "code",
   "execution_count": 2,
   "metadata": {},
   "outputs": [],
   "source": [
    "m = pyqg.QGModel(nx=64, log_level=0, dt=3600., tmax=50000*3600)\n",
    "m.run()"
   ]
  },
  {
   "cell_type": "code",
   "execution_count": 1,
   "metadata": {},
   "outputs": [],
   "source": [
    "import xarray as xr\n",
    "import numpy as np\n",
    "import torch\n",
    "import torch.nn as nn\n",
    "import torch.optim as optim\n",
    "from torch.autograd import Variable\n",
    "import pyqg_subgrid_experiments as pse\n",
    "import pyqg\n",
    "import matplotlib.pyplot as plt\n",
    "%matplotlib inline"
   ]
  },
  {
   "cell_type": "code",
   "execution_count": 143,
   "metadata": {},
   "outputs": [
    {
     "data": {
      "text/plain": [
       "<module 'pyqg_subgrid_experiments' from '/home/asr9645/pyqg_experiments/pyqg_subgrid_experiments/__init__.py'>"
      ]
     },
     "execution_count": 143,
     "metadata": {},
     "output_type": "execute_result"
    }
   ],
   "source": [
    "import importlib\n",
    "importlib.reload(pse.dataset)\n",
    "importlib.reload(pse)"
   ]
  },
  {
   "cell_type": "code",
   "execution_count": 144,
   "metadata": {},
   "outputs": [],
   "source": [
    "train = pse.Dataset(m)\n",
    "train['a'] = train.u**2 + train.v**2 - 2*train.u*train.v + 0.1*train.curl('u','v')\n",
    "ds=train"
   ]
  },
  {
   "cell_type": "code",
   "execution_count": 163,
   "metadata": {},
   "outputs": [],
   "source": [
    "class BatchSymbolicRegression(nn.Module):\n",
    "    def __init__(self, features, target):\n",
    "        super().__init__()\n",
    "        self.features = features\n",
    "        self.target = target\n",
    "        self.initialize_weights()\n",
    "        \n",
    "    def initialize_weights(self):\n",
    "        self.weights = nn.Parameter(torch.zeros(len(self.features)))\n",
    "        self.bias = nn.Parameter(torch.zeros(1)[0])\n",
    "        \n",
    "    def forward(self, x):\n",
    "        return (self.weights * x).sum(dim=1) + self.bias\n",
    "    \n",
    "    def as_tensor(self, x):\n",
    "        return torch.tensor(x.astype(np.float32))\n",
    "    \n",
    "    def extract_x(self, ds):\n",
    "        return self.as_tensor(np.stack([\n",
    "            ds.extract_feature(f).data.ravel() for f in self.features\n",
    "        ], axis=1))\n",
    "    \n",
    "    def extract_y(self, ds):\n",
    "        return self.as_tensor(ds.extract_feature(self.target).data.ravel())\n",
    "    \n",
    "    def fit(self, ds, learning_rate=0.001, num_epochs=50):\n",
    "        if 'run' not in ds.dims: ds = ds.expand_dims('run')\n",
    "        if 'time' not in ds.dims: ds = ds.expand_dims('time')\n",
    "        optimizer = optim.Adam(self.parameters(), lr=learning_rate)\n",
    "        scheduler = optim.lr_scheduler.MultiStepLR(optimizer, milestones=[int(num_epochs/2), int(num_epochs*3/4), int(num_epochs*7/8)], gamma=0.1)\n",
    "        criterion = nn.MSELoss()\n",
    "        for epoch in range(num_epochs):\n",
    "            epoch_loss = 0.0\n",
    "            epoch_steps = 0\n",
    "            runs = np.arange(len(ds.run)); np.random.shuffle(runs)\n",
    "            time = np.arange(len(ds.time)); np.random.shuffle(time)\n",
    "            for t in time:\n",
    "                for r in runs:\n",
    "                    batch = ds.isel(run=r, time=t)\n",
    "                    x = self.extract_x(batch)\n",
    "                    y = self.extract_y(batch)\n",
    "                    optimizer.zero_grad()\n",
    "                    yhat = self.forward(x)\n",
    "                    loss = criterion(yhat, y)\n",
    "                    loss.backward()\n",
    "                    optimizer.step()\n",
    "                    epoch_loss += loss.item()\n",
    "                    epoch_steps += 1\n",
    "            print(f\"Loss after Epoch {epoch+1}: {epoch_loss/epoch_steps}\")\n",
    "            scheduler.step()\n",
    "    \n",
    "\n",
    "        "
   ]
  },
  {
   "cell_type": "code",
   "execution_count": null,
   "metadata": {},
   "outputs": [],
   "source": []
  },
  {
   "cell_type": "code",
   "execution_count": 164,
   "metadata": {},
   "outputs": [
    {
     "data": {
      "text/plain": [
       "<generator object Module.parameters at 0x150b3b2f4740>"
      ]
     },
     "execution_count": 164,
     "metadata": {},
     "output_type": "execute_result"
    }
   ],
   "source": [
    "sr = BatchSymbolicRegression(\n",
    "  ['u','v','mul(u,u)','mul(v,v)','mul(u,v)','curl(u,v)','div(u,v)'],\n",
    "'a'\n",
    ")\n",
    "sr.parameters()"
   ]
  },
  {
   "cell_type": "code",
   "execution_count": 180,
   "metadata": {},
   "outputs": [
    {
     "name": "stdout",
     "output_type": "stream",
     "text": [
      "Loss after Epoch 1: 1.5702585898225152e-08\n",
      "Loss after Epoch 2: 9.77532981778495e-05\n",
      "Loss after Epoch 3: 6.01689725954202e-06\n",
      "Loss after Epoch 4: 2.208326077379752e-05\n",
      "Loss after Epoch 5: 5.713508289773017e-05\n",
      "Loss after Epoch 6: 4.2315754399169236e-05\n",
      "Loss after Epoch 7: 1.1659955816867296e-05\n",
      "Loss after Epoch 8: 1.3580437041582627e-07\n",
      "Loss after Epoch 9: 1.261747456737794e-05\n",
      "Loss after Epoch 10: 2.7205147489439696e-05\n",
      "Loss after Epoch 11: 2.599668914626818e-05\n",
      "Loss after Epoch 12: 1.2804805919586215e-05\n",
      "Loss after Epoch 13: 1.6122321540024132e-06\n",
      "Loss after Epoch 14: 1.3755770851275884e-06\n",
      "Loss after Epoch 15: 9.205969035974704e-06\n",
      "Loss after Epoch 16: 1.5048097338876687e-05\n",
      "Loss after Epoch 17: 1.2937950486957561e-05\n",
      "Loss after Epoch 18: 5.764168690802762e-06\n",
      "Loss after Epoch 19: 4.944477041135542e-07\n",
      "Loss after Epoch 20: 1.1247067277508904e-06\n",
      "Loss after Epoch 21: 5.5129462452896405e-06\n",
      "Loss after Epoch 22: 8.319086191477254e-06\n",
      "Loss after Epoch 23: 6.7223322730569635e-06\n",
      "Loss after Epoch 24: 2.6655400233721593e-06\n",
      "Loss after Epoch 25: 1.1350946493848824e-07\n",
      "Loss after Epoch 26: 9.621728622732917e-07\n",
      "Loss after Epoch 27: 3.51441599377722e-06\n",
      "Loss after Epoch 28: 4.679835456045112e-06\n",
      "Loss after Epoch 29: 3.296229351690272e-06\n",
      "Loss after Epoch 30: 9.716821978145163e-07\n",
      "Loss after Epoch 31: 1.2612969335634716e-08\n",
      "Loss after Epoch 32: 9.86787085821561e-07\n",
      "Loss after Epoch 33: 2.3923410026327474e-06\n",
      "Loss after Epoch 34: 2.5325248316221405e-06\n",
      "Loss after Epoch 35: 1.3361984656512504e-06\n",
      "Loss after Epoch 36: 1.7181284306388989e-07\n",
      "Loss after Epoch 37: 1.6373348898923723e-07\n",
      "Loss after Epoch 38: 1.0180308436247287e-06\n",
      "Loss after Epoch 39: 1.5540936146862805e-06\n",
      "Loss after Epoch 40: 1.1442338063716306e-06\n",
      "Loss after Epoch 41: 3.247002098305529e-07\n",
      "Loss after Epoch 42: 1.0616096446369738e-08\n",
      "Loss after Epoch 43: 4.0324562178284395e-07\n",
      "Loss after Epoch 44: 8.688455750416324e-07\n",
      "Loss after Epoch 45: 7.99017811914382e-07\n",
      "Loss after Epoch 46: 3.1489278740082227e-07\n",
      "Loss after Epoch 47: 8.65230997959543e-09\n",
      "Loss after Epoch 48: 1.6889153187094053e-07\n",
      "Loss after Epoch 49: 4.833454454455932e-07\n",
      "Loss after Epoch 50: 5.090411150376895e-07\n",
      "Loss after Epoch 51: 2.3116700731407036e-07\n",
      "Loss after Epoch 52: 1.9613486301750527e-07\n",
      "Loss after Epoch 53: 1.543120760061356e-07\n",
      "Loss after Epoch 54: 1.1126454779741834e-07\n",
      "Loss after Epoch 55: 7.193523998694218e-08\n",
      "Loss after Epoch 56: 4.005980613897009e-08\n",
      "Loss after Epoch 57: 1.7833075460771397e-08\n",
      "Loss after Epoch 58: 5.837291094934471e-09\n",
      "Loss after Epoch 59: 3.2044684683540936e-09\n",
      "Loss after Epoch 60: 7.958355752180069e-09\n",
      "Loss after Epoch 61: 1.7462438606230535e-08\n",
      "Loss after Epoch 62: 2.8895692949504337e-08\n",
      "Loss after Epoch 63: 3.9683989427885535e-08\n",
      "Loss after Epoch 64: 4.7830770455448146e-08\n",
      "Loss after Epoch 65: 5.211350639910961e-08\n",
      "Loss after Epoch 66: 5.213619758137611e-08\n",
      "Loss after Epoch 67: 4.82512483301889e-08\n",
      "Loss after Epoch 68: 4.1381710502719216e-08\n",
      "Loss after Epoch 69: 3.2785113290856316e-08\n",
      "Loss after Epoch 70: 2.3803607973604812e-08\n",
      "Loss after Epoch 71: 1.5640376105352516e-08\n",
      "Loss after Epoch 72: 9.192720362705131e-09\n",
      "Loss after Epoch 73: 4.9591641904100925e-09\n",
      "Loss after Epoch 74: 3.023846062433222e-09\n",
      "Loss after Epoch 75: 3.1090292562652166e-09\n",
      "Loss after Epoch 76: 4.677036091749187e-09\n",
      "Loss after Epoch 77: 4.8711297218062555e-09\n",
      "Loss after Epoch 78: 5.03644503879741e-09\n",
      "Loss after Epoch 79: 5.1714268423097565e-09\n",
      "Loss after Epoch 80: 5.2755559920569794e-09\n",
      "Loss after Epoch 81: 5.349291232192854e-09\n",
      "Loss after Epoch 82: 5.393747226634105e-09\n",
      "Loss after Epoch 83: 5.410652370585467e-09\n",
      "Loss after Epoch 84: 5.4020734552295835e-09\n",
      "Loss after Epoch 85: 5.370406341853595e-09\n",
      "Loss after Epoch 86: 5.318192108916264e-09\n",
      "Loss after Epoch 87: 5.248105061639308e-09\n",
      "Loss after Epoch 88: 5.16276887907452e-09\n",
      "Loss after Epoch 89: 5.152871906943801e-09\n",
      "Loss after Epoch 90: 5.141699954691603e-09\n",
      "Loss after Epoch 91: 5.1293955749542874e-09\n",
      "Loss after Epoch 92: 5.116008949812567e-09\n",
      "Loss after Epoch 93: 5.101682631902804e-09\n",
      "Loss after Epoch 94: 5.086527643527461e-09\n",
      "Loss after Epoch 95: 5.070609709889595e-09\n",
      "Loss after Epoch 96: 5.054032747864312e-09\n",
      "Loss after Epoch 97: 5.036842498640226e-09\n",
      "Loss after Epoch 98: 5.019107796044864e-09\n",
      "Loss after Epoch 99: 5.000916125652566e-09\n",
      "Loss after Epoch 100: 4.982307455492219e-09\n"
     ]
    }
   ],
   "source": [
    "sr.fit(train, learning_rate=0.01, num_epochs=100)"
   ]
  },
  {
   "cell_type": "code",
   "execution_count": 181,
   "metadata": {},
   "outputs": [
    {
     "data": {
      "text/plain": [
       "[<matplotlib.lines.Line2D at 0x150b3afcf730>]"
      ]
     },
     "execution_count": 181,
     "metadata": {},
     "output_type": "execute_result"
    },
    {
     "data": {
      "image/png": "[encoded data removed]",
      "text/plain": [
       "<Figure size 432x288 with 1 Axes>"
      ]
     },
     "metadata": {
      "needs_background": "light"
     },
     "output_type": "display_data"
    }
   ],
   "source": [
    "plt.plot(sr.weights.data.numpy())\n",
    "plt.plot([0,0,1,1,-2,0.1,0])"
   ]
  },
  {
   "cell_type": "code",
   "execution_count": 168,
   "metadata": {},
   "outputs": [
    {
     "data": {
      "text/plain": [
       "array(0.00218319, dtype=float32)"
      ]
     },
     "execution_count": 168,
     "metadata": {},
     "output_type": "execute_result"
    }
   ],
   "source": [
    "sr.bias.data.numpy()"
   ]
  },
  {
   "cell_type": "code",
   "execution_count": 140,
   "metadata": {},
   "outputs": [
    {
     "data": {
      "text/plain": [
       "torch.Size([8192])"
      ]
     },
     "execution_count": 140,
     "metadata": {},
     "output_type": "execute_result"
    }
   ],
   "source": [
    "sr.forward(sr.extract_x(ds)).shape"
   ]
  },
  {
   "cell_type": "code",
   "execution_count": 141,
   "metadata": {},
   "outputs": [
    {
     "data": {
      "text/plain": [
       "tensor([0., 0., 0.,  ..., 0., 0., 0.], grad_fn=<AddBackward0>)"
      ]
     },
     "execution_count": 141,
     "metadata": {},
     "output_type": "execute_result"
    }
   ],
   "source": [
    "sr(sr.extract_x(ds))"
   ]
  },
  {
   "cell_type": "code",
   "execution_count": 80,
   "metadata": {},
   "outputs": [
    {
     "data": {
      "text/plain": [
       "<matplotlib.collections.QuadMesh at 0x150b40dadf70>"
      ]
     },
     "execution_count": 80,
     "metadata": {},
     "output_type": "execute_result"
    },
    {
     "data": {
      "image/png": "[encoded data removed]",
      "text/plain": [
       "<Figure size 432x288 with 2 Axes>"
      ]
     },
     "metadata": {
      "needs_background": "light"
     },
     "output_type": "display_data"
    }
   ],
   "source": [
    "f = train.extract_feature('abs(ddy(ddx(add(mul(a1,a2), ddy(v2)))))')\n",
    "f.plot()"
   ]
  },
  {
   "cell_type": "code",
   "execution_count": null,
   "metadata": {},
   "outputs": [],
   "source": []
  }
 ],
 "metadata": {
  "kernelspec": {
   "display_name": "m2lines_cpu",
   "language": "python",
   "name": "m2lines_cpu"
  },
  "language_info": {
   "codemirror_mode": {
    "name": "ipython",
    "version": 3
   },
   "file_extension": ".py",
   "mimetype": "text/x-python",
   "name": "python",
   "nbconvert_exporter": "python",
   "pygments_lexer": "ipython3",
   "version": "3.9.6"
  }
 },
 "nbformat": 4,
 "nbformat_minor": 4
}
