{
 "cells": [
  {
   "cell_type": "code",
   "execution_count": 5,
   "metadata": {},
   "outputs": [],
   "source": [
    "import torch\n",
    "import sys\n",
    "sys.path.append('/scratch/zanna/code/ag7531')\n",
    "sys.path.append('/scratch/zanna/code/ag7531/pyqgparamexperiments')\n",
    "from subgrid.models.utils import load_model_cls\n",
    "from subgrid.models.transforms import SoftPlusTransform\n",
    "from parameterization import Parameterization"
   ]
  },
  {
   "cell_type": "code",
   "execution_count": 8,
   "metadata": {},
   "outputs": [],
   "source": [
    "device = torch.device(\"cuda:0\" if torch.cuda.is_available() else \"cpu\")\n",
    "model_cls = load_model_cls('subgrid.models.models1', 'FullyCNN')\n",
    "net = model_cls(2, 4)\n",
    "net.final_transformation = SoftPlusTransform()\n",
    "net.final_transformation.indices = [1,3]\n",
    "net.load_state_dict(\n",
    "    torch.load('/scratch/zanna/data/pyqg/models/ag7531/1/dc74cea68a7f4c7e98f9228649a97135/artifacts/models/trained_model.pth'),\n",
    ")\n",
    "net.to(device)\n",
    "param = Parameterization(net, device)"
   ]
  },
  {
   "cell_type": "code",
   "execution_count": 14,
   "metadata": {},
   "outputs": [
    {
     "data": {
      "text/plain": [
       "FullyCNN(\n",
       "  (0): Conv2d(2, 128, kernel_size=(5, 5), stride=(1, 1))\n",
       "  (1): ReLU()\n",
       "  (2): Conv2d(128, 64, kernel_size=(5, 5), stride=(1, 1))\n",
       "  (3): ReLU()\n",
       "  (4): Conv2d(64, 32, kernel_size=(3, 3), stride=(1, 1))\n",
       "  (5): ReLU()\n",
       "  (6): Conv2d(32, 32, kernel_size=(3, 3), stride=(1, 1))\n",
       "  (7): ReLU()\n",
       "  (8): Conv2d(32, 32, kernel_size=(3, 3), stride=(1, 1))\n",
       "  (9): ReLU()\n",
       "  (10): Conv2d(32, 32, kernel_size=(3, 3), stride=(1, 1))\n",
       "  (11): ReLU()\n",
       "  (12): Conv2d(32, 32, kernel_size=(3, 3), stride=(1, 1))\n",
       "  (13): ReLU()\n",
       "  (14): Conv2d(32, 4, kernel_size=(3, 3), stride=(1, 1))\n",
       "  (final_transformation): SoftPlusTransform(Parameter containing:\n",
       "  tensor(-0.1793, requires_grad=True))\n",
       ")"
      ]
     },
     "execution_count": 14,
     "metadata": {},
     "output_type": "execute_result"
    }
   ],
   "source": [
    "net"
   ]
  },
  {
   "cell_type": "code",
   "execution_count": 10,
   "metadata": {},
   "outputs": [],
   "source": [
    "import pyqg"
   ]
  },
  {
   "cell_type": "code",
   "execution_count": 11,
   "metadata": {},
   "outputs": [
    {
     "name": "stderr",
     "output_type": "stream",
     "text": [
      "INFO:  Logger initialized\n"
     ]
    }
   ],
   "source": [
    "m = pyqg.QGModel(nx=256, dt=3600.)"
   ]
  },
  {
   "cell_type": "code",
   "execution_count": 16,
   "metadata": {},
   "outputs": [],
   "source": [
    "m._step_forward()"
   ]
  },
  {
   "cell_type": "code",
   "execution_count": 17,
   "metadata": {},
   "outputs": [
    {
     "data": {
      "text/plain": [
       "(array([[[-4.05710936e-10, -3.13251093e-10, -3.33727151e-10, ...,\n",
       "          -4.32848558e-10, -3.62990424e-10, -3.22946534e-10],\n",
       "         [-4.04636562e-10, -3.17980722e-10, -3.36198136e-10, ...,\n",
       "          -4.36135009e-10, -3.48644704e-10, -3.39234620e-10],\n",
       "         [-3.95208225e-10, -3.08221579e-10, -3.40666994e-10, ...,\n",
       "          -4.26901132e-10, -3.54538113e-10, -3.22541595e-10],\n",
       "         ...,\n",
       "         [-3.95992771e-10, -3.12900543e-10, -3.35045904e-10, ...,\n",
       "          -4.28137556e-10, -3.41588259e-10, -3.35881859e-10],\n",
       "         [-3.95091251e-10, -3.11562419e-10, -3.43199819e-10, ...,\n",
       "          -4.21121716e-10, -3.53223085e-10, -3.23679671e-10],\n",
       "         [-3.98108736e-10, -3.23878974e-10, -3.24307010e-10, ...,\n",
       "          -4.34009358e-10, -3.42979655e-10, -3.36392969e-10]],\n",
       " \n",
       "        [[-3.00749391e-10, -3.01089510e-10, -3.01615894e-10, ...,\n",
       "          -2.99081579e-10, -2.99352407e-10, -2.99874321e-10],\n",
       "         [-3.00748646e-10, -3.01079452e-10, -3.01609188e-10, ...,\n",
       "          -2.99096480e-10, -2.99327821e-10, -2.99899653e-10],\n",
       "         [-3.00740451e-10, -3.01074609e-10, -3.01608071e-10, ...,\n",
       "          -2.99096480e-10, -2.99373269e-10, -2.99889594e-10],\n",
       "         ...,\n",
       "         [-3.00745666e-10, -3.01099569e-10, -3.01643461e-10, ...,\n",
       "          -2.99058482e-10, -2.99354270e-10, -2.99900025e-10],\n",
       "         [-3.00731882e-10, -3.01094353e-10, -3.01655754e-10, ...,\n",
       "          -2.99056992e-10, -2.99356878e-10, -2.99887732e-10],\n",
       "         [-3.00724432e-10, -3.01098824e-10, -3.01622599e-10, ...,\n",
       "          -2.99079344e-10, -2.99347937e-10, -2.99876928e-10]]]),\n",
       " array([[[8.06446314e-08, 8.06749105e-08, 8.06551695e-08, ...,\n",
       "          8.06070805e-08, 8.06571841e-08, 8.06565762e-08],\n",
       "         [8.06430697e-08, 8.06764722e-08, 8.06509018e-08, ...,\n",
       "          8.06039333e-08, 8.06504369e-08, 8.06593776e-08],\n",
       "         [8.06414604e-08, 8.06767941e-08, 8.06537390e-08, ...,\n",
       "          8.06018591e-08, 8.06597114e-08, 8.06598186e-08],\n",
       "         ...,\n",
       "         [8.06415796e-08, 8.06811571e-08, 8.06519747e-08, ...,\n",
       "          8.06068778e-08, 8.06563616e-08, 8.06595087e-08],\n",
       "         [8.06438804e-08, 8.06796670e-08, 8.06529880e-08, ...,\n",
       "          8.06084514e-08, 8.06591034e-08, 8.06572199e-08],\n",
       "         [8.06446314e-08, 8.06763768e-08, 8.06535840e-08, ...,\n",
       "          8.06042433e-08, 8.06578398e-08, 8.06574941e-08]],\n",
       " \n",
       "        [[8.06778431e-08, 8.06777716e-08, 8.06776166e-08, ...,\n",
       "          8.06784034e-08, 8.06783199e-08, 8.06780577e-08],\n",
       "         [8.06778431e-08, 8.06777716e-08, 8.06776166e-08, ...,\n",
       "          8.06784034e-08, 8.06783199e-08, 8.06780577e-08],\n",
       "         [8.06778431e-08, 8.06777835e-08, 8.06776285e-08, ...,\n",
       "          8.06784034e-08, 8.06783199e-08, 8.06780577e-08],\n",
       "         ...,\n",
       "         [8.06778431e-08, 8.06778073e-08, 8.06776285e-08, ...,\n",
       "          8.06784153e-08, 8.06783199e-08, 8.06780577e-08],\n",
       "         [8.06778431e-08, 8.06777954e-08, 8.06776285e-08, ...,\n",
       "          8.06784153e-08, 8.06783319e-08, 8.06780577e-08],\n",
       "         [8.06778431e-08, 8.06777835e-08, 8.06776166e-08, ...,\n",
       "          8.06784034e-08, 8.06783199e-08, 8.06780577e-08]]]))"
      ]
     },
     "execution_count": 17,
     "metadata": {},
     "output_type": "execute_result"
    }
   ],
   "source": [
    "param(m.ufull, m.vfull, m.t)"
   ]
  },
  {
   "cell_type": "code",
   "execution_count": null,
   "metadata": {},
   "outputs": [],
   "source": []
  }
 ],
 "metadata": {
  "kernelspec": {
   "display_name": "m2lines_cpu",
   "language": "python",
   "name": "m2lines_cpu"
  },
  "language_info": {
   "codemirror_mode": {
    "name": "ipython",
    "version": 3
   },
   "file_extension": ".py",
   "mimetype": "text/x-python",
   "name": "python",
   "nbconvert_exporter": "python",
   "pygments_lexer": "ipython3",
   "version": "3.9.6"
  }
 },
 "nbformat": 4,
 "nbformat_minor": 4
}
