{
 "cells": [
  {
   "cell_type": "code",
   "execution_count": 2,
   "metadata": {},
   "outputs": [],
   "source": [
    "import os\n",
    "import xarray as xr\n",
    "import numpy as np\n",
    "import json\n",
    "import matplotlib.pyplot as plt\n",
    "import pyqg\n",
    "from collections import defaultdict\n",
    "import glob\n",
    "from plot_helpers import figure_grid\n",
    "import itertools\n",
    "import math\n",
    "from scipy.stats import pearsonr\n",
    "\n",
    "%matplotlib inline"
   ]
  },
  {
   "cell_type": "code",
   "execution_count": 3,
   "metadata": {},
   "outputs": [],
   "source": [
    "test_dir = '/scratch/zanna/data/pyqg/64_256/test'\n",
    "ds = xr.open_mfdataset(f\"{test_dir}/*/lores.nc\", combine=\"nested\", concat_dim=\"run\")\n",
    "\n",
    "ds['relative_vorticity'] = (\n",
    "    ds.v.differentiate('x') - ds.u.differentiate('y')\n",
    ")\n",
    "ds['divergence'] = (\n",
    "    ds.u.differentiate('x') + ds.v.differentiate('y')\n",
    ")\n",
    "ds['shearing_deformation'] = (\n",
    "    ds.u.differentiate('y') + ds.v.differentiate('x')\n",
    ")\n",
    "ds['stretching_deformation'] = (\n",
    "    ds.u.differentiate('x') - ds.v.differentiate('y')\n",
    ")"
   ]
  },
  {
   "cell_type": "code",
   "execution_count": 4,
   "metadata": {},
   "outputs": [],
   "source": [
    "ds['u_forcing_physical_parameterization_eq5'] = (\n",
    "    (ds.relative_vorticity**2).differentiate('x')\n",
    "    - (ds.relative_vorticity * ds.shearing_deformation).differentiate('x')\n",
    "    + (ds.relative_vorticity * ds.stretching_deformation).differentiate('y')   \n",
    ")\n",
    "\n",
    "ds['v_forcing_physical_parameterization_eq5'] = (\n",
    "    (ds.relative_vorticity * ds.stretching_deformation).differentiate('x')\n",
    "    + (ds.relative_vorticity**2).differentiate('y')\n",
    "    + (ds.relative_vorticity * ds.shearing_deformation).differentiate('y')\n",
    ")\n",
    "\n",
    "ds['u_forcing_physical_parameterization_eq6'] = (\n",
    "    (-ds.relative_vorticity*ds.shearing_deformation).differentiate('x')\n",
    "    + (ds.relative_vorticity*ds.stretching_deformation).differentiate('y')\n",
    "    + 0.5*(\n",
    "        ds.relative_vorticity**2\n",
    "        + ds.shearing_deformation**2\n",
    "        + ds.stretching_deformation**2\n",
    "    ).differentiate('x')  \n",
    ")\n",
    "\n",
    "ds['v_forcing_physical_parameterization_eq6'] = (\n",
    "      (ds.relative_vorticity*ds.shearing_deformation).differentiate('y')\n",
    "    + (ds.relative_vorticity*ds.stretching_deformation).differentiate('x')\n",
    "    + 0.5*(\n",
    "        ds.relative_vorticity**2\n",
    "        + ds.shearing_deformation**2\n",
    "        + ds.stretching_deformation**2\n",
    "    ).differentiate('y')  \n",
    ")"
   ]
  },
  {
   "cell_type": "code",
   "execution_count": 7,
   "metadata": {},
   "outputs": [
    {
     "name": "stdout",
     "output_type": "stream",
     "text": [
      "u forcing physical parameterization correlation (eq5 of ZB2020)\n",
      "  upper layer: r=0.21 (slope=-12087893.557416698, inter=1.0536144625369246e-13)\n",
      "  lower layer: r=0.35 (slope=-18490218.88178126, inter=-1.30034398257813e-13)\n",
      "v forcing physical parameterization correlation (eq5 of ZB2020)\n",
      "  upper layer: r=0.20 (slope=-12126797.23322372, inter=-3.721772568638779e-12)\n",
      "  lower layer: r=0.35 (slope=-18765223.769452106, inter=3.935995331232756e-14)\n",
      "u forcing physical parameterization correlation (eq6 of ZB2020)\n",
      "  upper layer: r=0.21 (slope=-19565025.147982173, inter=6.523999305914745e-13)\n",
      "  lower layer: r=0.37 (slope=-32027163.944466308, inter=-1.0432412648684163e-13)\n",
      "v forcing physical parameterization correlation (eq6 of ZB2020)\n",
      "  upper layer: r=0.21 (slope=-19882697.466072824, inter=-4.207804007159038e-12)\n",
      "  lower layer: r=0.39 (slope=-32689823.26071003, inter=1.7888873249724583e-14)\n"
     ]
    }
   ],
   "source": [
    "from scipy.stats import linregress\n",
    "\n",
    "for eq in ['eq5', 'eq6']:\n",
    "    for coord in ['u','v']:\n",
    "        print(f\"{coord} forcing physical parameterization correlation ({eq} of ZB2020)\")\n",
    "        for z in [0,1]:\n",
    "            pred = np.array(ds[f\"{coord}_forcing_physical_parameterization_{eq}\"].isel(lev=z).data.reshape(-1))\n",
    "            true = np.array(ds[f\"{coord}_forcing_advection\"].isel(lev=z).data.reshape(-1))\n",
    "            res = linregress(pred, true)\n",
    "            print(f\"  {['upper','lower'][z]} layer: r={np.abs(res.rvalue):.2f} (slope={res.slope}, inter={res.intercept})\")"
   ]
  }
 ],
 "metadata": {
  "kernelspec": {
   "display_name": "m2lines_cpu",
   "language": "python",
   "name": "m2lines_cpu"
  },
  "language_info": {
   "codemirror_mode": {
    "name": "ipython",
    "version": 3
   },
   "file_extension": ".py",
   "mimetype": "text/x-python",
   "name": "python",
   "nbconvert_exporter": "python",
   "pygments_lexer": "ipython3",
   "version": "3.9.6"
  }
 },
 "nbformat": 4,
 "nbformat_minor": 4
}
