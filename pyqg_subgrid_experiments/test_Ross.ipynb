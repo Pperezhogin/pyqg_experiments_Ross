{
 "cells": [
  {
   "cell_type": "code",
   "execution_count": 14,
   "metadata": {},
   "outputs": [
    {
     "name": "stdout",
     "output_type": "stream",
     "text": [
      "The autoreload extension is already loaded. To reload it, use:\n",
      "  %reload_ext autoreload\n"
     ]
    }
   ],
   "source": [
    "import os\n",
    "import json\n",
    "import pyqg_subgrid_experiments as pse\n",
    "import argparse\n",
    "import time\n",
    "import torch\n",
    "import matplotlib.pyplot as plt\n",
    "%load_ext autoreload\n",
    "%autoreload 2"
   ]
  },
  {
   "cell_type": "code",
   "execution_count": 2,
   "metadata": {},
   "outputs": [
    {
     "data": {
      "text/plain": [
       "True"
      ]
     },
     "execution_count": 2,
     "metadata": {},
     "output_type": "execute_result"
    }
   ],
   "source": [
    "torch.cuda.is_available()"
   ]
  },
  {
   "cell_type": "code",
   "execution_count": 3,
   "metadata": {},
   "outputs": [
    {
     "data": {
      "text/plain": [
       "_StoreAction(option_strings=['--layerwise_targets'], dest='layerwise_targets', nargs=None, const=None, default=0, type=<class 'int'>, choices=None, help=None, metavar=None)"
      ]
     },
     "execution_count": 3,
     "metadata": {},
     "output_type": "execute_result"
    }
   ],
   "source": [
    "parser = argparse.ArgumentParser()\n",
    "parser.add_argument('--train_set', type=str, default=\"/scratch/zanna/data/pyqg/data/train/*.nc\")\n",
    "parser.add_argument('--test_set', type=str, default=\"/scratch/zanna/data/pyqg/data/test/*.nc\")\n",
    "parser.add_argument('--transfer_set', type=str, default=\"/scratch/zanna/data/pyqg/data/transfer/*.nc\")\n",
    "parser.add_argument('--save_dir', type=str, default=\"ROSS_cnn\")\n",
    "parser.add_argument('--inputs', type=str, default=\"u,v,q\")\n",
    "parser.add_argument('--targets', type=str, default=\"q_forcing_advection\")\n",
    "parser.add_argument('--zero_mean', type=int, default=1)\n",
    "parser.add_argument('--num_epochs', type=int, default=50)\n",
    "parser.add_argument('--layerwise_inputs', type=int, default=0)\n",
    "parser.add_argument('--layerwise_targets', type=int, default=0)"
   ]
  },
  {
   "cell_type": "code",
   "execution_count": 4,
   "metadata": {},
   "outputs": [],
   "source": [
    "args = parser.parse_args(\"\")"
   ]
  },
  {
   "cell_type": "code",
   "execution_count": 5,
   "metadata": {},
   "outputs": [],
   "source": [
    "save_dir = args.save_dir\n",
    "test_dir = os.path.join(save_dir, \"test\")\n",
    "xfer_dir = os.path.join(save_dir, \"transfer\")\n",
    "for d in [save_dir, test_dir, xfer_dir]:\n",
    "    os.system(f\"mkdir -p {d}\") \n",
    "\n",
    "with open(f\"{save_dir}/model_config.json\", 'w') as f:\n",
    "    f.write(json.dumps(args.__dict__))"
   ]
  },
  {
   "cell_type": "code",
   "execution_count": 6,
   "metadata": {},
   "outputs": [],
   "source": [
    "train = pse.Dataset(args.train_set)"
   ]
  },
  {
   "cell_type": "code",
   "execution_count": 9,
   "metadata": {},
   "outputs": [],
   "source": [
    "param = pse.CNNParameterization.train_on(train, save_dir,\n",
    "            inputs=args.inputs.split(\",\"),\n",
    "            targets=args.targets.split(\",\"),\n",
    "            layerwise_inputs=args.layerwise_inputs,\n",
    "            layerwise_targets=args.layerwise_targets,\n",
    "            zero_mean=args.zero_mean,\n",
    "            num_epochs=50)"
   ]
  },
  {
   "cell_type": "code",
   "execution_count": 10,
   "metadata": {},
   "outputs": [],
   "source": [
    "test = pse.Dataset(args.test_set)\n",
    "xfer = pse.Dataset(args.transfer_set)"
   ]
  },
  {
   "cell_type": "code",
   "execution_count": 36,
   "metadata": {},
   "outputs": [
    {
     "name": "stdout",
     "output_type": "stream",
     "text": [
      "Current mode: False\n",
      "Mode after eval(): False\n"
     ]
    },
    {
     "name": "stderr",
     "output_type": "stream",
     "text": [
      "/ext3/miniconda3/lib/python3.9/site-packages/dask/core.py:119: RuntimeWarning: invalid value encountered in true_divide\n",
      "  return func(*(_execute_task(a, cache) for a in args))\n"
     ]
    }
   ],
   "source": [
    "test_result = param.test_offline(test, os.path.join(test_dir, \"offline_metrics.nc\"), force=True)"
   ]
  },
  {
   "cell_type": "code",
   "execution_count": 26,
   "metadata": {},
   "outputs": [
    {
     "name": "stdout",
     "output_type": "stream",
     "text": [
      "Current mode: False\n",
      "Mode after eval(): False\n"
     ]
    },
    {
     "name": "stderr",
     "output_type": "stream",
     "text": [
      "/ext3/miniconda3/lib/python3.9/site-packages/dask/core.py:119: RuntimeWarning: divide by zero encountered in true_divide\n",
      "  return func(*(_execute_task(a, cache) for a in args))\n",
      "/ext3/miniconda3/lib/python3.9/site-packages/dask/core.py:119: RuntimeWarning: invalid value encountered in true_divide\n",
      "  return func(*(_execute_task(a, cache) for a in args))\n"
     ]
    }
   ],
   "source": [
    "transfer_result = param.test_offline(xfer, os.path.join(xfer_dir, \"offline_metrics.nc\"))"
   ]
  },
  {
   "cell_type": "code",
   "execution_count": 37,
   "metadata": {},
   "outputs": [
    {
     "name": "stderr",
     "output_type": "stream",
     "text": [
      "/ext3/miniconda3/lib/python3.9/site-packages/dask/core.py:119: RuntimeWarning: invalid value encountered in true_divide\n",
      "  return func(*(_execute_task(a, cache) for a in args))\n"
     ]
    },
    {
     "data": {
      "image/png": "[encoded data removed]",
      "text/plain": [
       "<Figure size 432x288 with 1 Axes>"
      ]
     },
     "metadata": {
      "needs_background": "light"
     },
     "output_type": "display_data"
    }
   ],
   "source": [
    "ds = test_result\n",
    "plt.plot(ds.q_forcing_advection_temporal_correlation)\n",
    "#plt.ylim([0,2])\n",
    "plt.legend(['upper layer', 'bottom layer'])\n",
    "plt.title('Correlation')\n",
    "plt.show()"
   ]
  },
  {
   "cell_type": "code",
   "execution_count": 39,
   "metadata": {},
   "outputs": [
    {
     "data": {
      "image/png": "[encoded data removed]",
      "text/plain": [
       "<Figure size 432x288 with 1 Axes>"
      ]
     },
     "metadata": {
      "needs_background": "light"
     },
     "output_type": "display_data"
    }
   ],
   "source": [
    "ds = test_result\n",
    "plt.plot(1-ds.q_forcing_advection_temporal_skill)\n",
    "plt.ylim([0,0.5])\n",
    "plt.legend(['upper layer', 'bottom layer'])\n",
    "plt.title('MSE normalized by VAR')\n",
    "#plt.hlines(y=[0.15,0.05],xmin=20,xmax=90,linestyle='--')\n",
    "#plt.text(5,0.15,'y=0.15')\n",
    "#plt.text(5,0.05,'y=0.05')\n",
    "plt.show()"
   ]
  },
  {
   "cell_type": "code",
   "execution_count": null,
   "metadata": {},
   "outputs": [],
   "source": []
  }
 ],
 "metadata": {
  "interpreter": {
   "hash": "05edf54c81e9d60fa9ffc2d19df58f5b8263a9e832bf2883d1c18873ede7ce7a"
  },
  "kernelspec": {
   "display_name": "my_env",
   "language": "python",
   "name": "my_env"
  },
  "language_info": {
   "codemirror_mode": {
    "name": "ipython",
    "version": 3
   },
   "file_extension": ".py",
   "mimetype": "text/x-python",
   "name": "python",
   "nbconvert_exporter": "python",
   "pygments_lexer": "ipython3",
   "version": "3.9.5"
  }
 },
 "nbformat": 4,
 "nbformat_minor": 4
}
