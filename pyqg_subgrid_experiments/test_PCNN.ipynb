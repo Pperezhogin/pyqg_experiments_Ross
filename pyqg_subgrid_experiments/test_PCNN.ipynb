{
 "cells": [
  {
   "cell_type": "code",
   "execution_count": 1,
   "metadata": {},
   "outputs": [],
   "source": [
    "import os\n",
    "import json\n",
    "import pyqg_subgrid_experiments as pse\n",
    "from pyqg_subgrid_experiments.models import ProbabilisticCNN\n",
    "import argparse\n",
    "%load_ext autoreload\n",
    "%autoreload 2"
   ]
  },
  {
   "cell_type": "code",
   "execution_count": 2,
   "metadata": {},
   "outputs": [
    {
     "data": {
      "text/plain": [
       "True"
      ]
     },
     "execution_count": 2,
     "metadata": {},
     "output_type": "execute_result"
    }
   ],
   "source": [
    "import torch\n",
    "torch.cuda.is_available()"
   ]
  },
  {
   "cell_type": "code",
   "execution_count": 3,
   "metadata": {},
   "outputs": [],
   "source": [
    "parser = argparse.ArgumentParser()\n",
    "parser.add_argument('--train_set', type=str, default=\"/scratch/zanna/data/pyqg/data/train/0.nc\")\n",
    "parser.add_argument('--test_set', type=str, default=\"/scratch/zanna/data/pyqg/data/test/*.nc\")\n",
    "parser.add_argument('--transfer_set', type=str, default=\"/scratch/zanna/data/pyqg/data/transfer/*.nc\")\n",
    "parser.add_argument('--save_dir', type=str, default=\"PCNN\")\n",
    "parser.add_argument('--inputs', type=str, default=\"u,v,q\")\n",
    "parser.add_argument('--targets', type=str, default=\"q_forcing_advection\")\n",
    "parser.add_argument('--zero_mean', type=int, default=1)\n",
    "parser.add_argument('--num_epochs', type=int, default=50)\n",
    "parser.add_argument('--layerwise_inputs', type=int, default=0)\n",
    "parser.add_argument('--layerwise_targets', type=int, default=0)\n",
    "args = parser.parse_args(\"\")"
   ]
  },
  {
   "cell_type": "code",
   "execution_count": 4,
   "metadata": {},
   "outputs": [],
   "source": [
    "train = pse.Dataset(args.train_set)"
   ]
  },
  {
   "cell_type": "code",
   "execution_count": 54,
   "metadata": {},
   "outputs": [],
   "source": [
    "save_dir = args.save_dir\n",
    "test_dir = os.path.join(save_dir, \"test\")\n",
    "xfer_dir = os.path.join(save_dir, \"transfer\")\n",
    "os.system(f\"rm -r {save_dir}\")\n",
    "for d in [save_dir, test_dir, xfer_dir]:\n",
    "    os.system(f\"mkdir -p {d}\") "
   ]
  },
  {
   "cell_type": "code",
   "execution_count": 55,
   "metadata": {},
   "outputs": [],
   "source": [
    "with open(f\"{save_dir}/model_config.json\", 'w') as f:\n",
    "    f.write(json.dumps(args.__dict__))"
   ]
  },
  {
   "cell_type": "code",
   "execution_count": 56,
   "metadata": {},
   "outputs": [
    {
     "name": "stdout",
     "output_type": "stream",
     "text": [
      "Gauss Loss after Epoch 1: 3.902721643447876, equiv MSE: 902.7478575404386\n",
      "Gauss Loss after Epoch 2: 2.206973910331726, equiv MSE: 30.384962173011864\n",
      "Gauss Loss after Epoch 3: 1.662390947341919, equiv MSE: 10.224449835721138\n",
      "Gauss Loss after Epoch 4: 1.3209351897239685, equiv MSE: 5.164820658179943\n",
      "Gauss Loss after Epoch 5: 1.253960371017456, equiv MSE: 4.517328331714475\n",
      "Gauss Loss after Epoch 6: 0.9193550646305084, equiv MSE: 2.3133810889156736\n",
      "Gauss Loss after Epoch 7: 0.7763558030128479, equiv MSE: 1.73795929509585\n",
      "Gauss Loss after Epoch 8: 0.7273851931095123, equiv MSE: 1.5758115134507515\n",
      "Gauss Loss after Epoch 9: 0.72499880194664, equiv MSE: 1.5683084276513042\n",
      "Gauss Loss after Epoch 10: 0.5877320766448975, equiv MSE: 1.191799265802626\n",
      "Gauss Loss after Epoch 11: 0.4639453738927841, equiv MSE: 0.930429238803469\n",
      "Gauss Loss after Epoch 12: 0.7088121771812439, equiv MSE: 1.5183502056309346\n",
      "Gauss Loss after Epoch 13: 0.3948017507791519, equiv MSE: 0.8102629142877619\n",
      "Gauss Loss after Epoch 14: 0.3590153157711029, equiv MSE: 0.7542967894531593\n",
      "Gauss Loss after Epoch 15: 0.3238951712846756, equiv MSE: 0.7031326895286352\n",
      "Gauss Loss after Epoch 16: 0.49873075634241104, equiv MSE: 0.9974647319191754\n",
      "Gauss Loss after Epoch 17: 0.26987461000680923, equiv MSE: 0.6311253520521477\n",
      "Gauss Loss after Epoch 18: 0.24616847932338715, equiv MSE: 0.6019005531916088\n",
      "Gauss Loss after Epoch 19: 0.18727407231926918, equiv MSE: 0.5350196224075384\n",
      "Gauss Loss after Epoch 20: 0.5071897357702255, equiv MSE: 1.0144833534665159\n",
      "Gauss Loss after Epoch 21: 0.18447616696357727, equiv MSE: 0.532034114831759\n",
      "Gauss Loss after Epoch 22: 0.15892390348017216, equiv MSE: 0.5055278272680319\n",
      "Gauss Loss after Epoch 23: 0.20235973596572876, equiv MSE: 0.5514078587874003\n",
      "Gauss Loss after Epoch 24: 0.17743033170700073, equiv MSE: 0.5245894425120167\n",
      "Gauss Loss after Epoch 25: 0.39300698041915894, equiv MSE: 0.8073596563616294\n",
      "Gauss Loss after Epoch 26: 0.17103509604930878, equiv MSE: 0.5179224243388628\n",
      "Gauss Loss after Epoch 27: 0.36418356001377106, equiv MSE: 0.7621340043936947\n",
      "Gauss Loss after Epoch 28: 0.11435715481638908, equiv MSE: 0.46241815938568864\n",
      "Gauss Loss after Epoch 29: 0.11086077615618706, equiv MSE: 0.459195860922634\n",
      "Gauss Loss after Epoch 30: 0.13477981090545654, equiv MSE: 0.481696814603999\n",
      "Gauss Loss after Epoch 31: 0.1532938852906227, equiv MSE: 0.4998674931317682\n",
      "Gauss Loss after Epoch 32: 0.09394705761224031, equiv MSE: 0.44392223211926013\n",
      "Gauss Loss after Epoch 33: 0.12545473501086235, equiv MSE: 0.47279635137485937\n",
      "Gauss Loss after Epoch 34: 0.1730845347046852, equiv MSE: 0.5200496815175071\n",
      "Gauss Loss after Epoch 35: 0.16431822627782822, equiv MSE: 0.5110113143469764\n",
      "Gauss Loss after Epoch 36: 0.11942311376333237, equiv MSE: 0.4671271575166932\n",
      "Gauss Loss after Epoch 37: 0.08576744049787521, equiv MSE: 0.43671908398267584\n",
      "Gauss Loss after Epoch 38: 0.05694303289055824, equiv MSE: 0.4122546928018413\n",
      "Gauss Loss after Epoch 39: 0.08544505201280117, equiv MSE: 0.4364375883356072\n",
      "Gauss Loss after Epoch 40: 0.2600305303931236, equiv MSE: 0.6188211763601268\n",
      "Gauss Loss after Epoch 41: 0.05369630455970764, equiv MSE: 0.40958640739405455\n",
      "Gauss Loss after Epoch 42: 0.3314177207648754, equiv MSE: 0.7137913698217419\n",
      "Gauss Loss after Epoch 43: 0.39503270387649536, equiv MSE: 0.8106372661982738\n",
      "Gauss Loss after Epoch 44: 0.17417855188250542, equiv MSE: 0.5211888138631955\n",
      "Gauss Loss after Epoch 45: 0.15126632899045944, equiv MSE: 0.4978445785072238\n",
      "Gauss Loss after Epoch 46: 0.11254610493779182, equiv MSE: 0.4607462643959569\n",
      "Gauss Loss after Epoch 47: 0.11094127967953682, equiv MSE: 0.45926980064430617\n",
      "Gauss Loss after Epoch 48: 0.0787577098235488, equiv MSE: 0.430639235346189\n",
      "Gauss Loss after Epoch 49: 0.1237509734928608, equiv MSE: 0.4711880286707576\n",
      "Gauss Loss after Epoch 50: 0.06402155570685863, equiv MSE: 0.4181325093889565\n",
      "Gauss Loss after Epoch 1: 3.277941942214966, equiv MSE: 258.7555734963047\n",
      "Gauss Loss after Epoch 2: 1.4868707656860352, equiv MSE: 7.197556053397308\n",
      "Gauss Loss after Epoch 3: 1.0107330679893494, equiv MSE: 2.7772636266077884\n",
      "Gauss Loss after Epoch 4: 0.7390297055244446, equiv MSE: 1.6129413070719518\n",
      "Gauss Loss after Epoch 5: 0.5702163577079773, equiv MSE: 1.1507716477682426\n",
      "Gauss Loss after Epoch 6: 0.5476416349411011, equiv MSE: 1.0999703994839405\n",
      "Gauss Loss after Epoch 7: 0.41067495942115784, equiv MSE: 0.8363985197991162\n",
      "Gauss Loss after Epoch 8: 0.3370724767446518, equiv MSE: 0.7219098231957078\n",
      "Gauss Loss after Epoch 9: 0.40424392372369766, equiv MSE: 0.8257095905662748\n",
      "Gauss Loss after Epoch 10: 0.1976514868438244, equiv MSE: 0.5462398978879305\n",
      "Gauss Loss after Epoch 11: 0.18746908754110336, equiv MSE: 0.5352283370481234\n",
      "Gauss Loss after Epoch 12: 0.1539323702454567, equiv MSE: 0.5005062166078538\n",
      "Gauss Loss after Epoch 13: 0.07987989857792854, equiv MSE: 0.4316068377867972\n",
      "Gauss Loss after Epoch 14: 0.06633213348686695, equiv MSE: 0.4200692362710644\n",
      "Gauss Loss after Epoch 15: 0.12000179290771484, equiv MSE: 0.4676681039784058\n",
      "Gauss Loss after Epoch 16: -0.03014565259218216, equiv MSE: 0.3463549006548245\n",
      "Gauss Loss after Epoch 17: 0.025524545460939407, equiv MSE: 0.38714696284776046\n",
      "Gauss Loss after Epoch 18: 0.14096330851316452, equiv MSE: 0.4876909451007924\n",
      "Gauss Loss after Epoch 19: -0.05263571813702583, equiv MSE: 0.33112099179449583\n",
      "Gauss Loss after Epoch 20: -0.02982284687459469, equiv MSE: 0.34657858353766013\n",
      "Gauss Loss after Epoch 21: -0.12089154310524464, equiv MSE: 0.2888686806907809\n",
      "Gauss Loss after Epoch 22: -0.023594103753566742, equiv MSE: 0.3509230860794346\n",
      "Gauss Loss after Epoch 23: -0.08780808001756668, equiv MSE: 0.3086287563846623\n",
      "Gauss Loss after Epoch 24: -0.1491832584142685, equiv MSE: 0.2729773329235099\n",
      "Gauss Loss after Epoch 25: -0.16572794318199158, equiv MSE: 0.26409249261921475\n",
      "Gauss Loss after Epoch 26: -0.13713407889008522, equiv MSE: 0.2796355424503778\n",
      "Gauss Loss after Epoch 27: -0.1725171022117138, equiv MSE: 0.2605307964018948\n",
      "Gauss Loss after Epoch 28: -0.13714508339762688, equiv MSE: 0.27962938801523296\n",
      "Gauss Loss after Epoch 29: -0.13468782231211662, equiv MSE: 0.2810070152593561\n",
      "Gauss Loss after Epoch 30: -0.14410564303398132, equiv MSE: 0.2757636044013224\n",
      "Gauss Loss after Epoch 31: -0.1753656417131424, equiv MSE: 0.25905075184062504\n",
      "Gauss Loss after Epoch 32: -0.1478167399764061, equiv MSE: 0.2737244104708458\n",
      "Gauss Loss after Epoch 33: -0.13429123908281326, equiv MSE: 0.28122998901445523\n",
      "Gauss Loss after Epoch 34: -0.18072636425495148, equiv MSE: 0.25628818922543556\n",
      "Gauss Loss after Epoch 35: -0.1423291377723217, equiv MSE: 0.27674513805684864\n",
      "Gauss Loss after Epoch 36: -0.11975239962339401, equiv MSE: 0.2895275567095461\n",
      "Gauss Loss after Epoch 37: -0.19154275208711624, equiv MSE: 0.2508035027095835\n",
      "Gauss Loss after Epoch 38: -0.19532332941889763, equiv MSE: 0.24891428995104561\n",
      "Gauss Loss after Epoch 39: -0.16841348260641098, equiv MSE: 0.26267783354159197\n",
      "Gauss Loss after Epoch 40: -0.1311485320329666, equiv MSE: 0.2830032028063729\n",
      "Gauss Loss after Epoch 41: -0.17264419049024582, equiv MSE: 0.2604645839962333\n",
      "Gauss Loss after Epoch 42: -0.10859409999102354, equiv MSE: 0.29606146328453126\n",
      "Gauss Loss after Epoch 43: -0.1682075560092926, equiv MSE: 0.26278604052755816\n",
      "Gauss Loss after Epoch 44: -0.07510292530059814, equiv MSE: 0.31657159621791303\n",
      "Gauss Loss after Epoch 45: -0.16675517708063126, equiv MSE: 0.26355048006194326\n",
      "Gauss Loss after Epoch 46: -0.11058761598542333, equiv MSE: 0.29488340679479297\n",
      "Gauss Loss after Epoch 47: -0.16670408099889755, equiv MSE: 0.2635774142318908\n",
      "Gauss Loss after Epoch 48: 0.03741466999053955, equiv MSE: 0.3964637527896398\n",
      "Gauss Loss after Epoch 49: -0.19613393396139145, equiv MSE: 0.24851107477915851\n",
      "Gauss Loss after Epoch 50: -0.19309117645025253, equiv MSE: 0.2500280036231351\n"
     ]
    }
   ],
   "source": [
    "param = pse.CNNParameterization.train_on(train, save_dir,\n",
    "            inputs=args.inputs.split(\",\"),\n",
    "            targets=args.targets.split(\",\"),\n",
    "            layerwise_inputs=True,\n",
    "            layerwise_targets=True,\n",
    "            zero_mean=args.zero_mean,\n",
    "            num_epochs=50,\n",
    "            model_class=ProbabilisticCNN,\n",
    "            learning_rate=0.0001)"
   ]
  },
  {
   "cell_type": "code",
   "execution_count": 59,
   "metadata": {},
   "outputs": [
    {
     "name": "stdout",
     "output_type": "stream",
     "text": [
      "model number 0\n",
      "min, max std : 0.09185075759887695 2.821894407272339\n",
      "min, max mean: -2.3964152336120605 2.9409732818603516\n",
      "model number 1\n",
      "min, max std : 0.06960272789001465 2.8678829669952393\n",
      "min, max mean: -2.1837615966796875 2.207934856414795\n"
     ]
    }
   ],
   "source": [
    "for i, model in enumerate(param.models):\n",
    "    print('model number', i)\n",
    "    model.check_channels()"
   ]
  },
  {
   "cell_type": "code",
   "execution_count": 60,
   "metadata": {},
   "outputs": [
    {
     "data": {
      "text/plain": [
       "[<matplotlib.lines.Line2D at 0x147aa597dca0>]"
      ]
     },
     "execution_count": 60,
     "metadata": {},
     "output_type": "execute_result"
    },
    {
     "data": {
      "image/png": "[encoded data removed]",
      "text/plain": [
       "<Figure size 432x288 with 1 Axes>"
      ]
     },
     "metadata": {
      "needs_background": "light"
     },
     "output_type": "display_data"
    }
   ],
   "source": [
    "import matplotlib.pyplot as plt\n",
    "import numpy as np\n",
    "plt.plot(param.models[0].loss_history['gauss'])"
   ]
  },
  {
   "cell_type": "code",
   "execution_count": null,
   "metadata": {},
   "outputs": [],
   "source": []
  }
 ],
 "metadata": {
  "kernelspec": {
   "display_name": "my_env",
   "language": "python",
   "name": "my_env"
  },
  "language_info": {
   "codemirror_mode": {
    "name": "ipython",
    "version": 3
   },
   "file_extension": ".py",
   "mimetype": "text/x-python",
   "name": "python",
   "nbconvert_exporter": "python",
   "pygments_lexer": "ipython3",
   "version": "3.9.5"
  }
 },
 "nbformat": 4,
 "nbformat_minor": 4
}
