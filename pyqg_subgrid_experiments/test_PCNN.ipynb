{
 "cells": [
  {
   "cell_type": "code",
   "execution_count": 1,
   "metadata": {},
   "outputs": [],
   "source": [
    "import os\n",
    "import json\n",
    "import pyqg_subgrid_experiments as pse\n",
    "from pyqg_subgrid_experiments.models import ProbabilisticCNN\n",
    "import argparse\n",
    "%load_ext autoreload\n",
    "%autoreload 2"
   ]
  },
  {
   "cell_type": "code",
   "execution_count": 2,
   "metadata": {},
   "outputs": [
    {
     "data": {
      "text/plain": [
       "True"
      ]
     },
     "execution_count": 2,
     "metadata": {},
     "output_type": "execute_result"
    }
   ],
   "source": [
    "import torch\n",
    "torch.cuda.is_available()"
   ]
  },
  {
   "cell_type": "code",
   "execution_count": 3,
   "metadata": {},
   "outputs": [],
   "source": [
    "parser = argparse.ArgumentParser()\n",
    "parser.add_argument('--train_set', type=str, default=\"/scratch/zanna/data/pyqg/data/train/*.nc\")\n",
    "parser.add_argument('--test_set', type=str, default=\"/scratch/zanna/data/pyqg/data/test/*.nc\")\n",
    "parser.add_argument('--transfer_set', type=str, default=\"/scratch/zanna/data/pyqg/data/transfer/*.nc\")\n",
    "parser.add_argument('--save_dir', type=str, default=\"PCNN\")\n",
    "parser.add_argument('--inputs', type=str, default=\"u,v,q\")\n",
    "parser.add_argument('--targets', type=str, default=\"q_forcing_advection\")\n",
    "parser.add_argument('--zero_mean', type=int, default=1)\n",
    "parser.add_argument('--num_epochs', type=int, default=50)\n",
    "parser.add_argument('--layerwise_inputs', type=int, default=0)\n",
    "parser.add_argument('--layerwise_targets', type=int, default=0)\n",
    "args = parser.parse_args(\"\")"
   ]
  },
  {
   "cell_type": "code",
   "execution_count": 4,
   "metadata": {},
   "outputs": [],
   "source": [
    "train = pse.Dataset(args.train_set)"
   ]
  },
  {
   "cell_type": "code",
   "execution_count": 5,
   "metadata": {},
   "outputs": [],
   "source": [
    "save_dir = 'PCNN'\n",
    "test_dir = os.path.join(save_dir, \"test\")\n",
    "xfer_dir = os.path.join(save_dir, \"transfer\")\n",
    "#os.system(f\"rm -r {save_dir}\")\n",
    "for d in [save_dir, test_dir, xfer_dir]:\n",
    "    os.system(f\"mkdir -p {d}\") "
   ]
  },
  {
   "cell_type": "code",
   "execution_count": 6,
   "metadata": {},
   "outputs": [],
   "source": [
    "with open(f\"{save_dir}/model_config.json\", 'w') as f:\n",
    "    f.write(json.dumps(args.__dict__))"
   ]
  },
  {
   "cell_type": "code",
   "execution_count": 7,
   "metadata": {},
   "outputs": [
    {
     "name": "stdout",
     "output_type": "stream",
     "text": [
      "Current mode: True\n",
      "Mode after eval(): True\n",
      "Gauss Loss after Epoch 1: -0.1431422718526686, equiv MSE: 0.2762954420124905, remaining min:25.33678336540858\n",
      "Gauss Loss after Epoch 2: -0.45011273751802305, equiv MSE: 0.14953489903449763, remaining min:24.734473419189452\n",
      "Gauss Loss after Epoch 3: -0.3779166141524911, equiv MSE: 0.17276323108873967, remaining min:24.209745490550993\n",
      "Gauss Loss after Epoch 4: -0.32279857332434725, equiv MSE: 0.19289734039449213, remaining min:23.70328580538432\n",
      "Gauss Loss after Epoch 5: -0.3947488815688035, equiv MSE: 0.16704404427949693, remaining min:23.18928283452988\n",
      "Gauss Loss after Epoch 6: -0.4629066768157132, equiv MSE: 0.1457571565181974, remaining min:22.66694612503052\n",
      "Gauss Loss after Epoch 7: -0.4824240799281089, equiv MSE: 0.14017716952154988, remaining min:22.156210287412005\n",
      "Gauss Loss after Epoch 8: -0.5622920162208817, equiv MSE: 0.1194826588410194, remaining min:21.638528633117676\n",
      "Gauss Loss after Epoch 9: -0.3736708562273313, equiv MSE: 0.17423649909058508, remaining min:21.13456163009008\n",
      "Gauss Loss after Epoch 10: -0.5739082690985764, equiv MSE: 0.1167387743542643, remaining min:20.625569343566895\n",
      "Gauss Loss after Epoch 11: -0.6314962958697887, equiv MSE: 0.1040386731511867, remaining min:20.12173231840134\n",
      "Gauss Loss after Epoch 12: -0.3075037470087409, equiv MSE: 0.19888917995624322, remaining min:19.60288480122884\n",
      "Gauss Loss after Epoch 13: -0.5261213133221163, equiv MSE: 0.12844652274911633, remaining min:19.083928656578063\n",
      "Gauss Loss after Epoch 14: -0.25293249884510743, equiv MSE: 0.22182533242065486, remaining min:18.55863003730774\n",
      "Gauss Loss after Epoch 15: -0.4668661964345066, equiv MSE: 0.1446074581381015, remaining min:18.046691417694092\n",
      "Gauss Loss after Epoch 16: -0.46315642559133907, equiv MSE: 0.14568436935545725, remaining min:17.53073579470317\n",
      "Gauss Loss after Epoch 17: -0.5689292830661596, equiv MSE: 0.11790706304719036, remaining min:17.025696194171903\n",
      "Gauss Loss after Epoch 18: -0.48504012746407704, equiv MSE: 0.1394456645641734, remaining min:16.50176582336426\n",
      "Gauss Loss after Epoch 19: -0.4760075955377782, equiv MSE: 0.14198765084036452, remaining min:15.982448665301005\n",
      "Gauss Loss after Epoch 20: -0.46285650723559013, equiv MSE: 0.1457717824026445, remaining min:15.486424088478088\n",
      "Gauss Loss after Epoch 21: -0.6403884755118805, equiv MSE: 0.1022047677605001, remaining min:14.975000298023225\n",
      "Gauss Loss after Epoch 22: -0.7160414653775447, equiv MSE: 0.08785364880200117, remaining min:14.43422522544861\n",
      "Gauss Loss after Epoch 23: -0.6248859866248334, equiv MSE: 0.10542326114491665, remaining min:13.935779786109924\n",
      "Gauss Loss after Epoch 24: -0.6246503170798806, equiv MSE: 0.10547296296116385, remaining min:13.419825863838195\n",
      "Gauss Loss after Epoch 25: -0.6745235406410168, equiv MSE: 0.09546008458927728, remaining min:12.888999879360199\n",
      "Gauss Loss after Epoch 26: -0.7989509902894497, equiv MSE: 0.0744295692027452, remaining min:12.365360546112061\n",
      "Gauss Loss after Epoch 27: -0.8301092457245378, equiv MSE: 0.06993294032581658, remaining min:11.85521521170934\n",
      "Gauss Loss after Epoch 28: -0.8580113263691173, equiv MSE: 0.06613728293798413, remaining min:11.343466059366863\n",
      "Gauss Loss after Epoch 29: -0.8729404496467289, equiv MSE: 0.06419172958208999, remaining min:10.853355467319489\n",
      "Gauss Loss after Epoch 30: -0.882691480723374, equiv MSE: 0.06295198654732945, remaining min:10.356434504191082\n",
      "Gauss Loss after Epoch 31: -0.6630251089768374, equiv MSE: 0.097680804029466, remaining min:9.802644801139833\n",
      "Gauss Loss after Epoch 32: -0.8868209373644169, equiv MSE: 0.062434212617587546, remaining min:9.281734728813172\n",
      "Gauss Loss after Epoch 33: -0.9165493802989231, equiv MSE: 0.05883027000137089, remaining min:8.758803403377534\n",
      "Gauss Loss after Epoch 34: -0.8872172181220616, equiv MSE: 0.06238474926739258, remaining min:8.24958070119222\n",
      "Gauss Loss after Epoch 35: -0.9448123552781694, equiv MSE: 0.055597073691621576, remaining min:7.734592914581298\n",
      "Gauss Loss after Epoch 36: -0.9340257738004712, equiv MSE: 0.0568095094370968, remaining min:7.2199297110239655\n",
      "Gauss Loss after Epoch 37: -0.9733044326305389, equiv MSE: 0.052517498231912305, remaining min:6.699974675973257\n",
      "Gauss Loss after Epoch 38: -0.9855860253467279, equiv MSE: 0.05124321547545648, remaining min:6.188302993774414\n",
      "Gauss Loss after Epoch 39: -0.9900516971507494, equiv MSE: 0.05078758244680793, remaining min:5.672916785875956\n",
      "Gauss Loss after Epoch 40: -1.0061992255203864, equiv MSE: 0.04917359674580938, remaining min:5.155227780342102\n",
      "Gauss Loss after Epoch 41: -0.9985272340805215, equiv MSE: 0.0499339339553561, remaining min:4.639310503005981\n",
      "Gauss Loss after Epoch 42: -0.9792742948650437, equiv MSE: 0.05189418228835423, remaining min:4.123810831705729\n",
      "Gauss Loss after Epoch 43: -1.0059286653118975, equiv MSE: 0.049200212783576044, remaining min:3.6082381526629135\n",
      "Gauss Loss after Epoch 44: -1.004760104417801, equiv MSE: 0.04931533414677866, remaining min:3.0936955213546753\n",
      "Gauss Loss after Epoch 45: -1.004266625577036, equiv MSE: 0.049364030321210894, remaining min:2.576954503854116\n",
      "Gauss Loss after Epoch 46: -1.0107308796223473, equiv MSE: 0.048729934842284765, remaining min:2.0639331658681233\n",
      "Gauss Loss after Epoch 47: -1.008845586680314, equiv MSE: 0.04891402208701358, remaining min:1.547098231315613\n",
      "Gauss Loss after Epoch 48: -0.9887146594221977, equiv MSE: 0.050923574019381856, remaining min:1.0305688460667928\n",
      "Gauss Loss after Epoch 49: -1.0127884231288644, equiv MSE: 0.04852981894982018, remaining min:0.5155300935109456\n",
      "Gauss Loss after Epoch 50: -0.9984283066847746, equiv MSE: 0.049943814600881584, remaining min:0.0\n"
     ]
    }
   ],
   "source": [
    "param = pse.CNNParameterization.train_on(train, save_dir,\n",
    "            inputs=args.inputs.split(\",\"),\n",
    "            targets=args.targets.split(\",\"),\n",
    "            layerwise_inputs=False,\n",
    "            layerwise_targets=False,\n",
    "            zero_mean=args.zero_mean,\n",
    "            num_epochs=50,\n",
    "            model_class=ProbabilisticCNN,\n",
    "            learning_rate=0.0001)"
   ]
  },
  {
   "cell_type": "code",
   "execution_count": 18,
   "metadata": {},
   "outputs": [
    {
     "name": "stdout",
     "output_type": "stream",
     "text": [
      "model number 0\n",
      "Current mode: False\n",
      "Mode after eval(): False\n",
      "min, max std : 0.209946408867836 1.2128957509994507\n",
      "min, max mean: -0.43948665261268616 0.5136101245880127\n"
     ]
    }
   ],
   "source": [
    "for i, model in enumerate(param.models):\n",
    "    print('model number', i)\n",
    "    model.check_channels()"
   ]
  },
  {
   "cell_type": "code",
   "execution_count": 19,
   "metadata": {},
   "outputs": [
    {
     "data": {
      "text/plain": [
       "[<matplotlib.lines.Line2D at 0x1474b10d7fd0>]"
      ]
     },
     "execution_count": 19,
     "metadata": {},
     "output_type": "execute_result"
    },
    {
     "data": {
      "image/png": "[encoded data removed]",
      "text/plain": [
       "<Figure size 432x288 with 1 Axes>"
      ]
     },
     "metadata": {
      "needs_background": "light"
     },
     "output_type": "display_data"
    }
   ],
   "source": [
    "import matplotlib.pyplot as plt\n",
    "import numpy as np\n",
    "plt.plot(param.models[0].loss_history['gauss'])"
   ]
  },
  {
   "cell_type": "code",
   "execution_count": 20,
   "metadata": {},
   "outputs": [
    {
     "data": {
      "text/plain": [
       "False"
      ]
     },
     "execution_count": 20,
     "metadata": {},
     "output_type": "execute_result"
    }
   ],
   "source": [
    "param.models[0].training"
   ]
  },
  {
   "cell_type": "code",
   "execution_count": null,
   "metadata": {},
   "outputs": [],
   "source": []
  }
 ],
 "metadata": {
  "kernelspec": {
   "display_name": "my_env",
   "language": "python",
   "name": "my_env"
  },
  "language_info": {
   "codemirror_mode": {
    "name": "ipython",
    "version": 3
   },
   "file_extension": ".py",
   "mimetype": "text/x-python",
   "name": "python",
   "nbconvert_exporter": "python",
   "pygments_lexer": "ipython3",
   "version": "3.9.5"
  }
 },
 "nbformat": 4,
 "nbformat_minor": 4
}
