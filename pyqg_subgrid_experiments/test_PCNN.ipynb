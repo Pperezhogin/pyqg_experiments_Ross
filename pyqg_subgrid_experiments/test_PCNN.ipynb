{
 "cells": [
  {
   "cell_type": "code",
   "execution_count": 1,
   "metadata": {},
   "outputs": [],
   "source": [
    "import os\n",
    "import json\n",
    "import pyqg_subgrid_experiments as pse\n",
    "from pyqg_subgrid_experiments.models import ProbabilisticCNN\n",
    "import argparse\n",
    "%load_ext autoreload\n",
    "%autoreload 2"
   ]
  },
  {
   "cell_type": "code",
   "execution_count": 2,
   "metadata": {},
   "outputs": [
    {
     "data": {
      "text/plain": [
       "True"
      ]
     },
     "execution_count": 2,
     "metadata": {},
     "output_type": "execute_result"
    }
   ],
   "source": [
    "import torch\n",
    "torch.cuda.is_available()"
   ]
  },
  {
   "cell_type": "code",
   "execution_count": 3,
   "metadata": {},
   "outputs": [],
   "source": [
    "parser = argparse.ArgumentParser()\n",
    "parser.add_argument('--train_set', type=str, default=\"/scratch/zanna/data/pyqg/data/train/*.nc\")\n",
    "parser.add_argument('--test_set', type=str, default=\"/scratch/zanna/data/pyqg/data/test/*.nc\")\n",
    "parser.add_argument('--transfer_set', type=str, default=\"/scratch/zanna/data/pyqg/data/transfer/*.nc\")\n",
    "parser.add_argument('--save_dir', type=str, default=\"PCNN\")\n",
    "parser.add_argument('--inputs', type=str, default=\"u,v,q\")\n",
    "parser.add_argument('--targets', type=str, default=\"q_forcing_advection\")\n",
    "parser.add_argument('--zero_mean', type=int, default=1)\n",
    "parser.add_argument('--num_epochs', type=int, default=50)\n",
    "parser.add_argument('--layerwise_inputs', type=int, default=0)\n",
    "parser.add_argument('--layerwise_targets', type=int, default=0)\n",
    "args = parser.parse_args(\"\")"
   ]
  },
  {
   "cell_type": "code",
   "execution_count": 4,
   "metadata": {},
   "outputs": [],
   "source": [
    "train = pse.Dataset(args.train_set)"
   ]
  },
  {
   "cell_type": "code",
   "execution_count": 5,
   "metadata": {},
   "outputs": [],
   "source": [
    "save_dir = 'PCNN'\n",
    "test_dir = os.path.join(save_dir, \"test\")\n",
    "xfer_dir = os.path.join(save_dir, \"transfer\")\n",
    "#os.system(f\"rm -r {save_dir}\")\n",
    "for d in [save_dir, test_dir, xfer_dir]:\n",
    "    os.system(f\"mkdir -p {d}\") "
   ]
  },
  {
   "cell_type": "code",
   "execution_count": 6,
   "metadata": {},
   "outputs": [],
   "source": [
    "with open(f\"{save_dir}/model_config.json\", 'w') as f:\n",
    "    f.write(json.dumps(args.__dict__))"
   ]
  },
  {
   "cell_type": "code",
   "execution_count": 7,
   "metadata": {},
   "outputs": [
    {
     "name": "stdout",
     "output_type": "stream",
     "text": [
      "Gauss Loss after Epoch 1: -0.08421729768571608, equiv MSE: 0.3108531715862018, remaining min:25.42605117956797\n",
      "Gauss Loss after Epoch 2: -0.35360684185562763, equiv MSE: 0.18137044465477298, remaining min:24.855907821655272\n",
      "Gauss Loss after Epoch 3: -0.40436160160119045, equiv MSE: 0.1638632233325922, remaining min:24.331542567412058\n",
      "Gauss Loss after Epoch 4: -0.4637425210765179, equiv MSE: 0.14551369950154952, remaining min:23.80666460990906\n",
      "Gauss Loss after Epoch 5: -0.3412964384564582, equiv MSE: 0.18589135721575933, remaining min:23.284928798675537\n",
      "Gauss Loss after Epoch 6: -0.4656105053227614, equiv MSE: 0.14497107914240248, remaining min:22.768371152877805\n",
      "Gauss Loss after Epoch 7: -0.5235684891395709, equiv MSE: 0.12910400253003104, remaining min:22.2415674050649\n",
      "Gauss Loss after Epoch 8: -0.519488834370585, equiv MSE: 0.13016171126774612, remaining min:21.712190866470337\n",
      "Gauss Loss after Epoch 9: -0.4151872321853743, equiv MSE: 0.16035350985493377, remaining min:21.194075258572898\n",
      "Gauss Loss after Epoch 10: -0.6122208610122256, equiv MSE: 0.10812776713858031, remaining min:20.677928129831948\n",
      "Gauss Loss after Epoch 11: -0.3744631825014949, equiv MSE: 0.17396061342748104, remaining min:20.15885696411133\n",
      "Gauss Loss after Epoch 12: -0.6325071803294122, equiv MSE: 0.10382854348380148, remaining min:19.63795856634776\n",
      "Gauss Loss after Epoch 13: -0.4275217717842144, equiv MSE: 0.15644613030385804, remaining min:19.1284831960996\n",
      "Gauss Loss after Epoch 14: -0.517494627575883, equiv MSE: 0.1306818866535204, remaining min:18.609696435928342\n",
      "Gauss Loss after Epoch 15: -0.6011319416849052, equiv MSE: 0.11055259666304121, remaining min:18.086061894893646\n",
      "Gauss Loss after Epoch 16: -0.6537406731506481, equiv MSE: 0.0995115713801675, remaining min:17.59223682880402\n",
      "Gauss Loss after Epoch 17: -0.6032848476048778, equiv MSE: 0.11007760133750928, remaining min:17.071801054477692\n",
      "Gauss Loss after Epoch 18: -0.5542234266998575, equiv MSE: 0.12142641307352042, remaining min:16.556328455607098\n",
      "Gauss Loss after Epoch 19: -0.7215177110560677, equiv MSE: 0.08689668262094467, remaining min:16.03122146924337\n",
      "Gauss Loss after Epoch 20: -0.6268751050181248, equiv MSE: 0.10500469557776769, remaining min:15.506595849990845\n",
      "Gauss Loss after Epoch 21: -0.5825543459285708, equiv MSE: 0.11473746289157923, remaining min:15.000859522819518\n",
      "Gauss Loss after Epoch 22: -0.685965297414976, equiv MSE: 0.09330042696966309, remaining min:14.49204608599345\n",
      "Gauss Loss after Epoch 23: -0.7550968431758092, equiv MSE: 0.081252500216397, remaining min:13.974491465091704\n",
      "Gauss Loss after Epoch 24: -0.6949007485719289, equiv MSE: 0.09164787443684119, remaining min:13.451224652926125\n",
      "Gauss Loss after Epoch 25: -0.7841895799207337, equiv MSE: 0.07665969789796732, remaining min:12.937475045522055\n",
      "Gauss Loss after Epoch 26: -0.8349245952551856, equiv MSE: 0.0692626699896592, remaining min:12.416797637939453\n",
      "Gauss Loss after Epoch 27: -0.9211813720271868, equiv MSE: 0.058287784023632896, remaining min:11.905069426695505\n",
      "Gauss Loss after Epoch 28: -0.9262017904397319, equiv MSE: 0.05770545432654326, remaining min:11.387872870763143\n",
      "Gauss Loss after Epoch 29: -0.9553010255098343, equiv MSE: 0.054442942571278366, remaining min:10.866502046585083\n",
      "Gauss Loss after Epoch 30: -0.9569580047446139, equiv MSE: 0.05426281954559719, remaining min:10.346935749053955\n",
      "Gauss Loss after Epoch 31: -0.9721823528409004, equiv MSE: 0.05263548822331491, remaining min:9.835468312104544\n",
      "Gauss Loss after Epoch 32: -0.9979228853521979, equiv MSE: 0.04999432546450767, remaining min:9.315555596351622\n",
      "Gauss Loss after Epoch 33: -0.9712530223324018, equiv MSE: 0.05273341072756644, remaining min:8.79834425052007\n",
      "Gauss Loss after Epoch 34: -1.0233119030647417, equiv MSE: 0.04751908752013435, remaining min:8.28034750620524\n",
      "Gauss Loss after Epoch 35: -1.0197893532321733, equiv MSE: 0.04785504626958242, remaining min:7.761964917182923\n",
      "Gauss Loss after Epoch 36: -0.9595306217889575, equiv MSE: 0.053984341668012414, remaining min:7.238758635520936\n",
      "Gauss Loss after Epoch 37: -0.9697959065875587, equiv MSE: 0.05288731223705939, remaining min:6.723780091603597\n",
      "Gauss Loss after Epoch 38: -1.0512821745127439, equiv MSE: 0.044933828507980195, remaining min:6.202691888809205\n",
      "Gauss Loss after Epoch 39: -1.0598777851637673, equiv MSE: 0.04416796306111828, remaining min:5.687401910622914\n",
      "Gauss Loss after Epoch 40: -1.0647147459142348, equiv MSE: 0.04374274572930313, remaining min:5.173283934593201\n",
      "Gauss Loss after Epoch 41: -1.0655805942328538, equiv MSE: 0.04366706211306517, remaining min:4.65265656709671\n",
      "Gauss Loss after Epoch 42: -1.0700549317633405, equiv MSE: 0.04327804296234577, remaining min:4.13612699508667\n",
      "Gauss Loss after Epoch 43: -1.069464611393564, equiv MSE: 0.04332916895777301, remaining min:3.6194235165913895\n",
      "Gauss Loss after Epoch 44: -1.062495684010141, equiv MSE: 0.04393731288776423, remaining min:3.1006559371948246\n",
      "Gauss Loss after Epoch 45: -1.0542317894451758, equiv MSE: 0.044669533858821116, remaining min:2.61029714345932\n",
      "Gauss Loss after Epoch 46: -1.064843712790924, equiv MSE: 0.04373146445368751, remaining min:2.0747188727060952\n",
      "Gauss Loss after Epoch 47: -1.0756863100563778, equiv MSE: 0.042793347525909825, remaining min:1.554092490673065\n",
      "Gauss Loss after Epoch 48: -1.0709839761585873, equiv MSE: 0.04319770317818351, remaining min:1.0388774474461873\n",
      "Gauss Loss after Epoch 49: -1.0707204810836737, equiv MSE: 0.04322047394171063, remaining min:0.5186749656995138\n",
      "Gauss Loss after Epoch 50: -1.0722076155683573, equiv MSE: 0.043092115607953396, remaining min:0.0\n"
     ]
    }
   ],
   "source": [
    "param = pse.CNNParameterization.train_on(train, save_dir,\n",
    "            inputs=args.inputs.split(\",\"),\n",
    "            targets=args.targets.split(\",\"),\n",
    "            layerwise_inputs=False,\n",
    "            layerwise_targets=False,\n",
    "            zero_mean=args.zero_mean,\n",
    "            num_epochs=50,\n",
    "            model_class=ProbabilisticCNN,\n",
    "            learning_rate=0.0001)"
   ]
  },
  {
   "cell_type": "code",
   "execution_count": 8,
   "metadata": {},
   "outputs": [
    {
     "name": "stdout",
     "output_type": "stream",
     "text": [
      "model number 0\n",
      "min, max std : 4.942058140500194e-08 129.955078125\n",
      "min, max mean: -3.1303834915161133 4.08864688873291\n"
     ]
    }
   ],
   "source": [
    "for i, model in enumerate(param.models):\n",
    "    print('model number', i)\n",
    "    model.check_channels()"
   ]
  },
  {
   "cell_type": "code",
   "execution_count": 9,
   "metadata": {},
   "outputs": [
    {
     "data": {
      "text/plain": [
       "[<matplotlib.lines.Line2D at 0x153e9ca465e0>]"
      ]
     },
     "execution_count": 9,
     "metadata": {},
     "output_type": "execute_result"
    },
    {
     "data": {
      "image/png": "[encoded data removed]",
      "text/plain": [
       "<Figure size 432x288 with 1 Axes>"
      ]
     },
     "metadata": {
      "needs_background": "light"
     },
     "output_type": "display_data"
    }
   ],
   "source": [
    "import matplotlib.pyplot as plt\n",
    "import numpy as np\n",
    "plt.plot(param.models[0].loss_history['gauss'])"
   ]
  },
  {
   "cell_type": "code",
   "execution_count": 11,
   "metadata": {},
   "outputs": [
    {
     "data": {
      "text/plain": [
       "True"
      ]
     },
     "execution_count": 11,
     "metadata": {},
     "output_type": "execute_result"
    }
   ],
   "source": [
    "param.models[0].training"
   ]
  }
 ],
 "metadata": {
  "kernelspec": {
   "display_name": "my_env",
   "language": "python",
   "name": "my_env"
  },
  "language_info": {
   "codemirror_mode": {
    "name": "ipython",
    "version": 3
   },
   "file_extension": ".py",
   "mimetype": "text/x-python",
   "name": "python",
   "nbconvert_exporter": "python",
   "pygments_lexer": "ipython3",
   "version": "3.9.5"
  }
 },
 "nbformat": 4,
 "nbformat_minor": 4
}
