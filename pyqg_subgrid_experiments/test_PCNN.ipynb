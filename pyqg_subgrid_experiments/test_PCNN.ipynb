{
 "cells": [
  {
   "cell_type": "code",
   "execution_count": 113,
   "metadata": {},
   "outputs": [
    {
     "name": "stdout",
     "output_type": "stream",
     "text": [
      "The autoreload extension is already loaded. To reload it, use:\n",
      "  %reload_ext autoreload\n"
     ]
    }
   ],
   "source": [
    "import os\n",
    "import json\n",
    "import pyqg_subgrid_experiments as pse\n",
    "from pyqg_subgrid_experiments.models import ProbabilisticCNN\n",
    "import argparse\n",
    "%load_ext autoreload\n",
    "%autoreload 2"
   ]
  },
  {
   "cell_type": "code",
   "execution_count": 116,
   "metadata": {},
   "outputs": [
    {
     "data": {
      "text/plain": [
       "True"
      ]
     },
     "execution_count": 116,
     "metadata": {},
     "output_type": "execute_result"
    }
   ],
   "source": [
    "import torch\n",
    "torch.cuda.is_available()"
   ]
  },
  {
   "cell_type": "code",
   "execution_count": 119,
   "metadata": {},
   "outputs": [],
   "source": [
    "parser = argparse.ArgumentParser()\n",
    "parser.add_argument('--train_set', type=str, default=\"/scratch/zanna/data/pyqg/data/train/*.nc\")\n",
    "parser.add_argument('--test_set', type=str, default=\"/scratch/zanna/data/pyqg/data/test/*.nc\")\n",
    "parser.add_argument('--transfer_set', type=str, default=\"/scratch/zanna/data/pyqg/data/transfer/*.nc\")\n",
    "parser.add_argument('--save_dir', type=str, default=\"PCNN\")\n",
    "parser.add_argument('--inputs', type=str, default=\"u,v,q\")\n",
    "parser.add_argument('--targets', type=str, default=\"q_forcing_advection\")\n",
    "parser.add_argument('--zero_mean', type=int, default=1)\n",
    "parser.add_argument('--num_epochs', type=int, default=50)\n",
    "parser.add_argument('--layerwise_inputs', type=int, default=0)\n",
    "parser.add_argument('--layerwise_targets', type=int, default=0)\n",
    "args = parser.parse_args(\"\")"
   ]
  },
  {
   "cell_type": "code",
   "execution_count": 120,
   "metadata": {},
   "outputs": [],
   "source": [
    "train = pse.Dataset(args.train_set)"
   ]
  },
  {
   "cell_type": "code",
   "execution_count": 121,
   "metadata": {},
   "outputs": [],
   "source": [
    "save_dir = 'PCNN'\n",
    "test_dir = os.path.join(save_dir, \"test\")\n",
    "xfer_dir = os.path.join(save_dir, \"transfer\")\n",
    "os.system(f\"rm -r {save_dir}\")\n",
    "for d in [save_dir, test_dir, xfer_dir]:\n",
    "    os.system(f\"mkdir -p {d}\") "
   ]
  },
  {
   "cell_type": "code",
   "execution_count": 122,
   "metadata": {},
   "outputs": [],
   "source": [
    "with open(f\"{save_dir}/model_config.json\", 'w') as f:\n",
    "    f.write(json.dumps(args.__dict__))"
   ]
  },
  {
   "cell_type": "code",
   "execution_count": 110,
   "metadata": {},
   "outputs": [],
   "source": [
    "param = pse.CNNParameterization.train_on(train, save_dir,\n",
    "            inputs=args.inputs.split(\",\"),\n",
    "            targets=args.targets.split(\",\"),\n",
    "            layerwise_inputs=False,\n",
    "            layerwise_targets=False,\n",
    "            zero_mean=args.zero_mean,\n",
    "            num_epochs=50,\n",
    "            model_class=ProbabilisticCNN,\n",
    "            learning_rate=0.0001)"
   ]
  },
  {
   "cell_type": "code",
   "execution_count": 111,
   "metadata": {},
   "outputs": [
    {
     "name": "stdout",
     "output_type": "stream",
     "text": [
      "model number 0\n",
      "min, max std : 0.0653628259897232 4.455068588256836\n",
      "min, max mean: -2.610316753387451 2.8274121284484863\n"
     ]
    }
   ],
   "source": [
    "for i, model in enumerate(param.models):\n",
    "    print('model number', i)\n",
    "    model.check_channels()"
   ]
  },
  {
   "cell_type": "code",
   "execution_count": 112,
   "metadata": {},
   "outputs": [
    {
     "data": {
      "text/plain": [
       "[<matplotlib.lines.Line2D at 0x147aa516c040>]"
      ]
     },
     "execution_count": 112,
     "metadata": {},
     "output_type": "execute_result"
    },
    {
     "data": {
      "image/png": "[encoded data removed]",
      "text/plain": [
       "<Figure size 432x288 with 1 Axes>"
      ]
     },
     "metadata": {
      "needs_background": "light"
     },
     "output_type": "display_data"
    }
   ],
   "source": [
    "import matplotlib.pyplot as plt\n",
    "import numpy as np\n",
    "plt.plot(param.models[0].loss_history['gauss'])"
   ]
  }
 ],
 "metadata": {
  "kernelspec": {
   "display_name": "my_env",
   "language": "python",
   "name": "my_env"
  },
  "language_info": {
   "codemirror_mode": {
    "name": "ipython",
    "version": 3
   },
   "file_extension": ".py",
   "mimetype": "text/x-python",
   "name": "python",
   "nbconvert_exporter": "python",
   "pygments_lexer": "ipython3",
   "version": "3.9.5"
  }
 },
 "nbformat": 4,
 "nbformat_minor": 4
}
