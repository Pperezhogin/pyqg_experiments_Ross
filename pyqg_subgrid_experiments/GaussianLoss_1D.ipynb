{
 "cells": [
  {
   "cell_type": "code",
   "execution_count": 1,
   "metadata": {},
   "outputs": [],
   "source": [
    "import torch\n",
    "import torch.nn as nn\n",
    "import torch.optim as optim\n",
    "import numpy as np\n",
    "import matplotlib.pyplot as plt\n",
    "import pdb"
   ]
  },
  {
   "cell_type": "code",
   "execution_count": 2,
   "metadata": {},
   "outputs": [
    {
     "data": {
      "text/plain": [
       "False"
      ]
     },
     "execution_count": 2,
     "metadata": {},
     "output_type": "execute_result"
    }
   ],
   "source": [
    "import torch\n",
    "torch.cuda.is_available()"
   ]
  },
  {
   "cell_type": "code",
   "execution_count": 3,
   "metadata": {},
   "outputs": [],
   "source": [
    "Npoints = 10000"
   ]
  },
  {
   "cell_type": "code",
   "execution_count": 4,
   "metadata": {},
   "outputs": [],
   "source": [
    "x = torch.rand(Npoints,1).sort(dim=0)[0]\n",
    "eps = torch.randn(Npoints,1)\n",
    "noise_std = torch.abs(0.01*torch.cos(2*x))\n",
    "noise_var = torch.square(noise_std)\n",
    "noise = noise_std * eps"
   ]
  },
  {
   "cell_type": "code",
   "execution_count": 5,
   "metadata": {},
   "outputs": [],
   "source": [
    "y0 = torch.sin(x)\n",
    "y = y0 + noise\n",
    "MSE_min   = torch.square(noise).mean()\n",
    "Gauss_min = 0.5 * (torch.log(noise_var) + torch.div(torch.square(noise),noise_var)).mean()"
   ]
  },
  {
   "cell_type": "code",
   "execution_count": 6,
   "metadata": {},
   "outputs": [
    {
     "data": {
      "text/plain": [
       "[<matplotlib.lines.Line2D at 0x14e1a813b610>,\n",
       " <matplotlib.lines.Line2D at 0x14e1a813b400>]"
      ]
     },
     "execution_count": 6,
     "metadata": {},
     "output_type": "execute_result"
    },
    {
     "data": {
      "image/png": "[encoded data removed]",
      "text/plain": [
       "<Figure size 432x288 with 1 Axes>"
      ]
     },
     "metadata": {
      "needs_background": "light"
     },
     "output_type": "display_data"
    }
   ],
   "source": [
    "plt.plot(x,y,'.',x,y0,'-')"
   ]
  },
  {
   "cell_type": "code",
   "execution_count": 78,
   "metadata": {},
   "outputs": [],
   "source": [
    "class Net(nn.Module):\n",
    "    def __init__(self, width, depth, ANN_type='MSE'):\n",
    "        super().__init__()\n",
    "        \n",
    "        self.device = torch.device(\"cuda:0\" if torch.cuda.is_available() else \"cpu\")\n",
    "        \n",
    "        blocks = []\n",
    "        blocks.extend([nn.Linear(1,width), nn.ReLU()])\n",
    "        for j in range(depth-2):\n",
    "            blocks.extend([nn.Linear(width,width), nn.ReLU()])\n",
    "        \n",
    "        self.ANN_type = ANN_type\n",
    "        if ANN_type == 'MSE':\n",
    "            blocks.append(nn.Linear(width,1))\n",
    "        elif ANN_type == 'Gauss':\n",
    "            blocks.append(nn.Linear(width,2))\n",
    "        \n",
    "        self.my_net = nn.Sequential(*blocks)\n",
    "    def forward(self,x):\n",
    "        x = self.my_net(x)\n",
    "        if self.ANN_type == 'MSE':\n",
    "            return x\n",
    "        if self.ANN_type == 'Gauss':\n",
    "            r = torch.zeros_like(x)\n",
    "            r[:,0] = x[:,0]\n",
    "            r[:,1] = nn.functional.softplus(x[:,1]) \n",
    "            return r"
   ]
  },
  {
   "cell_type": "code",
   "execution_count": 8,
   "metadata": {},
   "outputs": [],
   "source": [
    "def minibatch(net, x, y, batch_size=64):\n",
    "    device = net.device\n",
    "    idx = np.arange(x.shape[0])\n",
    "    np.random.shuffle(idx)\n",
    "    batches = x.shape[0] // batch_size + 1\n",
    "    for batch in range(batches):\n",
    "        idxx = idx[batch*batch_size:(batch+1)*batch_size]\n",
    "        xx = x[idxx].to(device)\n",
    "        yy = y[idxx].to(device)\n",
    "        yield xx,yy"
   ]
  },
  {
   "cell_type": "code",
   "execution_count": 9,
   "metadata": {},
   "outputs": [],
   "source": [
    "def device_decorator(fun):\n",
    "    def fun2(net,*args, **kw):\n",
    "        net.cpu()\n",
    "        r = fun(net,*args, **kw)\n",
    "        net.to(net.device)\n",
    "        return r\n",
    "    return fun2    "
   ]
  },
  {
   "cell_type": "code",
   "execution_count": 10,
   "metadata": {},
   "outputs": [],
   "source": [
    "@device_decorator\n",
    "def custom_mse(net,x,y):\n",
    "    yhat = net.forward(x)\n",
    "    if net.ANN_type == 'MSE':\n",
    "        return torch.square(yhat-y).mean()\n",
    "    elif net.ANN_type == 'Gauss':\n",
    "        return torch.square(yhat[:,0]-y).mean()"
   ]
  },
  {
   "cell_type": "code",
   "execution_count": 44,
   "metadata": {},
   "outputs": [],
   "source": [
    "@device_decorator\n",
    "def custom_gauss(net,x,y):\n",
    "    yhat = net.forward(x)\n",
    "    term1 = torch.log(yhat[:,1])\n",
    "    term2 = torch.div(torch.square(y-yhat[:,0]),yhat[:,1])\n",
    "    \n",
    "    return 0.5 * (term1 + term2).mean()    "
   ]
  },
  {
   "cell_type": "code",
   "execution_count": 11,
   "metadata": {},
   "outputs": [],
   "source": [
    "def train(net, x, y, lr=0.001, num_epochs=100, batch_size=64):\n",
    "    device = torch.device(\"cuda:0\" if torch.cuda.is_available() else \"cpu\")\n",
    "    net.to(device)\n",
    "    \n",
    "    optimizer = optim.Adam(net.parameters(), lr=lr)\n",
    "    scheduler = optim.lr_scheduler.MultiStepLR(optimizer, milestones=[int(num_epochs/2), int(num_epochs*3/4), int(num_epochs*7/8)], gamma=0.1)\n",
    "    criterion = nn.MSELoss()\n",
    "    \n",
    "    net.loss_history = {'mse': [], 'custom_mse': []}\n",
    "    \n",
    "    for epoch in range(num_epochs):\n",
    "        epoch_loss = 0.\n",
    "        epoch_weight = 0.\n",
    "        for xx, yy in minibatch(net, x, y, batch_size):\n",
    "            optimizer.zero_grad()\n",
    "            yhat = net.forward(xx)\n",
    "            loss = criterion(yhat, yy)\n",
    "            loss.backward()\n",
    "            optimizer.step()\n",
    "            \n",
    "            nb = xx.shape[0]\n",
    "            epoch_loss += nb * loss.item()\n",
    "            epoch_weight += nb\n",
    "        net.loss_history['mse'].append(epoch_loss/epoch_weight)\n",
    "        net.loss_history['custom_mse'].append(custom_mse(net,x,y).item())\n",
    "        scheduler.step()\n",
    "        if epoch % 10 == 0:\n",
    "            print(f\"epoch = {epoch}, MSE = {epoch_loss/epoch_weight}\")"
   ]
  },
  {
   "cell_type": "code",
   "execution_count": 79,
   "metadata": {},
   "outputs": [],
   "source": [
    "def train_probabilistic(net, x, y, lr=0.001, num_epochs=100, batch_size=64):\n",
    "    device = torch.device(\"cuda:0\" if torch.cuda.is_available() else \"cpu\")\n",
    "    net.to(device)\n",
    "    \n",
    "    optimizer = optim.Adam(net.parameters(), lr=lr)\n",
    "    scheduler = optim.lr_scheduler.MultiStepLR(optimizer, milestones=[int(num_epochs/2), int(num_epochs*3/4), int(num_epochs*7/8)], gamma=0.1)\n",
    "    criterion = nn.GaussianNLLLoss()\n",
    "    \n",
    "    net.loss_history = {'gauss': [], 'custom_mse': [], 'custom_gauss': []}\n",
    "    \n",
    "    for epoch in range(num_epochs):\n",
    "        epoch_loss = 0.\n",
    "        epoch_weight = 0.\n",
    "        for xx, yy in minibatch(net, x, y, batch_size):\n",
    "            optimizer.zero_grad()\n",
    "            yhat = net.forward(xx)\n",
    "            loss = criterion(yhat[:,0], yy, yhat[:,1])\n",
    "            loss.backward()\n",
    "            optimizer.step()\n",
    "            \n",
    "            nb = xx.shape[0]\n",
    "            epoch_loss += nb * loss.item()\n",
    "            epoch_weight += nb\n",
    "        net.loss_history['gauss'].append(epoch_loss/epoch_weight)\n",
    "        net.loss_history['custom_mse'].append(custom_mse(net,x,y).item())\n",
    "        net.loss_history['custom_gauss'].append(custom_gauss(net,x,y).item())\n",
    "        scheduler.step()\n",
    "        if epoch % 10 == 0:\n",
    "            print(f\"epoch = {epoch}, Gaussian Loss = {epoch_loss/epoch_weight}\")"
   ]
  },
  {
   "cell_type": "code",
   "execution_count": 80,
   "metadata": {},
   "outputs": [],
   "source": [
    "net = Net(100,1)"
   ]
  },
  {
   "cell_type": "code",
   "execution_count": 14,
   "metadata": {},
   "outputs": [
    {
     "name": "stdout",
     "output_type": "stream",
     "text": [
      "epoch = 0, MSE = 0.001583883999689715\n",
      "epoch = 10, MSE = 4.52663880714681e-05\n",
      "epoch = 20, MSE = 4.089485129225068e-05\n"
     ]
    }
   ],
   "source": [
    "train(net, x, y, lr = 0.001, num_epochs=30)"
   ]
  },
  {
   "cell_type": "code",
   "execution_count": 17,
   "metadata": {},
   "outputs": [
    {
     "data": {
      "text/plain": [
       "Text(0.5, 1.0, 'MSE')"
      ]
     },
     "execution_count": 17,
     "metadata": {},
     "output_type": "execute_result"
    },
    {
     "data": {
      "image/png": "[encoded data removed]",
      "text/plain": [
       "<Figure size 432x288 with 1 Axes>"
      ]
     },
     "metadata": {
      "needs_background": "light"
     },
     "output_type": "display_data"
    }
   ],
   "source": [
    "plt.plot(net.loss_history['custom_mse'])\n",
    "plt.axhline(y=MSE_min,linestyle='--',color='r')\n",
    "plt.title('MSE')"
   ]
  },
  {
   "cell_type": "code",
   "execution_count": 18,
   "metadata": {},
   "outputs": [],
   "source": [
    "with torch.no_grad():\n",
    "    yhat = np.array(net.forward(x))"
   ]
  },
  {
   "cell_type": "code",
   "execution_count": 19,
   "metadata": {},
   "outputs": [
    {
     "data": {
      "text/plain": [
       "<matplotlib.legend.Legend at 0x14e1a7cd6c40>"
      ]
     },
     "execution_count": 19,
     "metadata": {},
     "output_type": "execute_result"
    },
    {
     "data": {
      "image/png": "[encoded data removed]",
      "text/plain": [
       "<Figure size 432x288 with 1 Axes>"
      ]
     },
     "metadata": {
      "needs_background": "light"
     },
     "output_type": "display_data"
    }
   ],
   "source": [
    "plt.plot(x,y0,'-',x,yhat)\n",
    "plt.legend(['Math expectation', 'prediction'])"
   ]
  },
  {
   "cell_type": "code",
   "execution_count": 81,
   "metadata": {},
   "outputs": [],
   "source": [
    "pnet = Net(100,1,ANN_type='Gauss')"
   ]
  },
  {
   "cell_type": "code",
   "execution_count": 82,
   "metadata": {},
   "outputs": [
    {
     "name": "stdout",
     "output_type": "stream",
     "text": [
      "epoch = 0, Gaussian Loss = -0.7232180249512196\n",
      "epoch = 10, Gaussian Loss = -0.8980213452339172\n",
      "epoch = 20, Gaussian Loss = -0.9015497856140137\n"
     ]
    }
   ],
   "source": [
    "train_probabilistic(pnet, x, y, lr = 0.001, num_epochs=30)"
   ]
  },
  {
   "cell_type": "code",
   "execution_count": 83,
   "metadata": {},
   "outputs": [
    {
     "name": "stdout",
     "output_type": "stream",
     "text": [
      "Custom and built-in Gauss losses: tensor(-4.7088e-06, grad_fn=<SubBackward0>)\n"
     ]
    }
   ],
   "source": [
    "criterion = nn.GaussianNLLLoss()\n",
    "print('Custom and built-in Gauss losses:', custom_gauss(pnet,x,y) - criterion(yhat[:,0], y, yhat[:,1]))"
   ]
  },
  {
   "cell_type": "code",
   "execution_count": 84,
   "metadata": {},
   "outputs": [
    {
     "data": {
      "text/plain": [
       "Text(0.5, 1.0, 'Custom Gauss')"
      ]
     },
     "execution_count": 84,
     "metadata": {},
     "output_type": "execute_result"
    },
    {
     "data": {
      "image/png": "[encoded data removed]",
      "text/plain": [
       "<Figure size 432x288 with 3 Axes>"
      ]
     },
     "metadata": {
      "needs_background": "light"
     },
     "output_type": "display_data"
    }
   ],
   "source": [
    "plt.subplot(131)\n",
    "plt.plot(pnet.loss_history['custom_mse'])\n",
    "plt.axhline(y=MSE_min,linestyle='--',color='r')\n",
    "plt.title('MSE')\n",
    "plt.subplot(132)\n",
    "plt.plot(pnet.loss_history['gauss'])\n",
    "plt.axhline(y=Gauss_min,linestyle='--',color='r')\n",
    "plt.title('Gauss')\n",
    "plt.subplot(133)\n",
    "plt.plot(pnet.loss_history['custom_gauss'])\n",
    "plt.axhline(y=Gauss_min,linestyle='--',color='r')\n",
    "plt.title('Custom Gauss')\n"
   ]
  },
  {
   "cell_type": "code",
   "execution_count": 85,
   "metadata": {},
   "outputs": [],
   "source": [
    "with torch.no_grad():\n",
    "    yhat = pnet.forward(x)"
   ]
  },
  {
   "cell_type": "code",
   "execution_count": 90,
   "metadata": {},
   "outputs": [
    {
     "data": {
      "text/plain": [
       "Text(0, 0.5, 'y')"
      ]
     },
     "execution_count": 90,
     "metadata": {},
     "output_type": "execute_result"
    },
    {
     "data": {
      "image/png": "[encoded data removed]",
      "text/plain": [
       "<Figure size 432x288 with 1 Axes>"
      ]
     },
     "metadata": {
      "needs_background": "light"
     },
     "output_type": "display_data"
    }
   ],
   "source": [
    "plt.plot(x,y,'.',x,yhat[:,0])\n",
    "plt.legend(['data', 'deterministic channel'])\n",
    "plt.xlabel('x')\n",
    "plt.ylabel('y')"
   ]
  },
  {
   "cell_type": "code",
   "execution_count": 89,
   "metadata": {},
   "outputs": [
    {
     "data": {
      "text/plain": [
       "<matplotlib.legend.Legend at 0x14e1a6ade160>"
      ]
     },
     "execution_count": 89,
     "metadata": {},
     "output_type": "execute_result"
    },
    {
     "data": {
      "image/png": "[encoded data removed]",
      "text/plain": [
       "<Figure size 432x288 with 1 Axes>"
      ]
     },
     "metadata": {
      "needs_background": "light"
     },
     "output_type": "display_data"
    }
   ],
   "source": [
    "plt.plot(pnet.loss_history['gauss'])\n",
    "plt.plot(pnet.loss_history['custom_gauss'])\n",
    "plt.legend(['gauss', 'custom_gauss'])"
   ]
  },
  {
   "cell_type": "code",
   "execution_count": null,
   "metadata": {},
   "outputs": [],
   "source": []
  }
 ],
 "metadata": {
  "kernelspec": {
   "display_name": "my_env",
   "language": "python",
   "name": "my_env"
  },
  "language_info": {
   "codemirror_mode": {
    "name": "ipython",
    "version": 3
   },
   "file_extension": ".py",
   "mimetype": "text/x-python",
   "name": "python",
   "nbconvert_exporter": "python",
   "pygments_lexer": "ipython3",
   "version": "3.9.5"
  }
 },
 "nbformat": 4,
 "nbformat_minor": 4
}
